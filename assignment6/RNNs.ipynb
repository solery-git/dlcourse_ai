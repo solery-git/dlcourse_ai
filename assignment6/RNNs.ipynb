{
  "nbformat": 4,
  "nbformat_minor": 0,
  "metadata": {
    "accelerator": "GPU",
    "colab": {
      "name": "RNNs.ipynb",
      "provenance": [],
      "collapsed_sections": []
    },
    "kernelspec": {
      "display_name": "Python 3",
      "language": "python",
      "name": "python3"
    },
    "language_info": {
      "codemirror_mode": {
        "name": "ipython",
        "version": 3
      },
      "file_extension": ".py",
      "mimetype": "text/x-python",
      "name": "python",
      "nbconvert_exporter": "python",
      "pygments_lexer": "ipython3",
      "version": "3.7.9"
    }
  },
  "cells": [
    {
      "cell_type": "markdown",
      "metadata": {
        "id": "zph0P5h8vUcB"
      },
      "source": [
        "# Задание 6: Рекуррентные нейронные сети (RNNs)\n",
        "\n",
        "Это задание адаптиповано из Deep NLP Course at ABBYY (https://github.com/DanAnastasyev/DeepNLP-Course) с разрешения автора - Даниила Анастасьева. Спасибо ему огромное!"
      ]
    },
    {
      "cell_type": "code",
      "metadata": {
        "id": "P59NYU98GCb9"
      },
      "source": [
        "#!pip3 -qq install torch==0.4.1\n",
        "#!pip3 -qq install bokeh==0.13.0\n",
        "#!pip3 -qq install gensim==3.6.0\n",
        "#!pip3 -qq install nltk\n",
        "#!pip3 -qq install scikit-learn==0.20.2"
      ],
      "execution_count": null,
      "outputs": []
    },
    {
      "cell_type": "code",
      "metadata": {
        "id": "8sVtGHmA9aBM"
      },
      "source": [
        "import numpy as np\n",
        "\n",
        "import torch\n",
        "import torch.nn as nn\n",
        "import torch.nn.functional as F\n",
        "import torch.optim as optim\n",
        "\n",
        "\n",
        "if torch.cuda.is_available():\n",
        "    from torch.cuda import FloatTensor, LongTensor\n",
        "else:\n",
        "    from torch import FloatTensor, LongTensor\n",
        "\n",
        "np.random.seed(42)\n",
        "device = torch.device(\"cuda:0\") # Let's make sure GPU is available!"
      ],
      "execution_count": null,
      "outputs": []
    },
    {
      "cell_type": "markdown",
      "metadata": {
        "id": "-6CNKM3b4hT1"
      },
      "source": [
        "# Рекуррентные нейронные сети (RNNs)"
      ]
    },
    {
      "cell_type": "markdown",
      "metadata": {
        "id": "O_XkoGNQUeGm"
      },
      "source": [
        "## POS Tagging"
      ]
    },
    {
      "cell_type": "markdown",
      "metadata": {
        "id": "QFEtWrS_4rUs"
      },
      "source": [
        "Мы рассмотрим применение рекуррентных сетей к задаче sequence labeling (последняя картинка).\n",
        "\n",
        "![RNN types](http://karpathy.github.io/assets/rnn/diags.jpeg)\n",
        "\n",
        "*From [The Unreasonable Effectiveness of Recurrent Neural Networks](http://karpathy.github.io/2015/05/21/rnn-effectiveness/)*\n",
        "\n",
        "Самые популярные примеры для такой постановки задачи - Part-of-Speech Tagging и Named Entity Recognition.\n",
        "\n",
        "Мы порешаем сейчас POS Tagging для английского.\n",
        "\n",
        "Будем работать с таким набором тегов:\n",
        "- ADJ - adjective (new, good, high, ...)\n",
        "- ADP - adposition (on, of, at, ...)\n",
        "- ADV - adverb (really, already, still, ...)\n",
        "- CONJ - conjunction (and, or, but, ...)\n",
        "- DET - determiner, article (the, a, some, ...)\n",
        "- NOUN - noun (year, home, costs, ...)\n",
        "- NUM - numeral (twenty-four, fourth, 1991, ...)\n",
        "- PRT - particle (at, on, out, ...)\n",
        "- PRON - pronoun (he, their, her, ...)\n",
        "- VERB - verb (is, say, told, ...)\n",
        "- . - punctuation marks (. , ;)\n",
        "- X - other (ersatz, esprit, dunno, ...)"
      ]
    },
    {
      "cell_type": "markdown",
      "metadata": {
        "id": "EPIkKdFlHB-X"
      },
      "source": [
        "Скачаем данные:"
      ]
    },
    {
      "cell_type": "code",
      "metadata": {
        "colab": {
          "base_uri": "https://localhost:8080/"
        },
        "id": "TiA2dGmgF1rW",
        "outputId": "2f748baf-363a-45c2-b9e9-5d11065fe6f6"
      },
      "source": [
        "import nltk\n",
        "from sklearn.model_selection import train_test_split\n",
        "\n",
        "nltk.download('brown')\n",
        "nltk.download('universal_tagset')\n",
        "\n",
        "data = nltk.corpus.brown.tagged_sents(tagset='universal')"
      ],
      "execution_count": null,
      "outputs": [
        {
          "output_type": "stream",
          "text": [
            "[nltk_data] Downloading package brown to /root/nltk_data...\n",
            "[nltk_data]   Package brown is already up-to-date!\n",
            "[nltk_data] Downloading package universal_tagset to /root/nltk_data...\n",
            "[nltk_data]   Package universal_tagset is already up-to-date!\n"
          ],
          "name": "stdout"
        }
      ]
    },
    {
      "cell_type": "markdown",
      "metadata": {
        "id": "d93g_swyJA_V"
      },
      "source": [
        "Пример размеченного предложения:"
      ]
    },
    {
      "cell_type": "code",
      "metadata": {
        "colab": {
          "base_uri": "https://localhost:8080/"
        },
        "id": "QstS4NO0L97c",
        "outputId": "9f0b4e64-a8f0-488e-b2a1-ee69366836d4"
      },
      "source": [
        "for word, tag in data[0]:\n",
        "    print('{:15}\\t{}'.format(word, tag))"
      ],
      "execution_count": null,
      "outputs": [
        {
          "output_type": "stream",
          "text": [
            "The            \tDET\n",
            "Fulton         \tNOUN\n",
            "County         \tNOUN\n",
            "Grand          \tADJ\n",
            "Jury           \tNOUN\n",
            "said           \tVERB\n",
            "Friday         \tNOUN\n",
            "an             \tDET\n",
            "investigation  \tNOUN\n",
            "of             \tADP\n",
            "Atlanta's      \tNOUN\n",
            "recent         \tADJ\n",
            "primary        \tNOUN\n",
            "election       \tNOUN\n",
            "produced       \tVERB\n",
            "``             \t.\n",
            "no             \tDET\n",
            "evidence       \tNOUN\n",
            "''             \t.\n",
            "that           \tADP\n",
            "any            \tDET\n",
            "irregularities \tNOUN\n",
            "took           \tVERB\n",
            "place          \tNOUN\n",
            ".              \t.\n"
          ],
          "name": "stdout"
        }
      ]
    },
    {
      "cell_type": "markdown",
      "metadata": {
        "id": "epdW8u_YXcAv"
      },
      "source": [
        "Построим разбиение на train/val/test - наконец-то, всё как у нормальных людей.\n",
        "\n",
        "На train будем учиться, по val - подбирать параметры и делать всякие early stopping, а на test - принимать модель по ее финальному качеству."
      ]
    },
    {
      "cell_type": "code",
      "metadata": {
        "colab": {
          "base_uri": "https://localhost:8080/"
        },
        "id": "xTai8Ta0lgwL",
        "outputId": "143c78c4-9bae-481d-9b03-5153709fcb2f"
      },
      "source": [
        "train_data, test_data = train_test_split(data, test_size=0.25, random_state=42)\n",
        "train_data, val_data = train_test_split(train_data, test_size=0.15, random_state=42)\n",
        "\n",
        "print('Words count in train set:', sum(len(sent) for sent in train_data))\n",
        "print('Words count in val set:', sum(len(sent) for sent in val_data))\n",
        "print('Words count in test set:', sum(len(sent) for sent in test_data))"
      ],
      "execution_count": null,
      "outputs": [
        {
          "output_type": "stream",
          "text": [
            "Words count in train set: 739769\n",
            "Words count in val set: 130954\n",
            "Words count in test set: 290469\n"
          ],
          "name": "stdout"
        }
      ]
    },
    {
      "cell_type": "markdown",
      "metadata": {
        "id": "eChdLNGtXyP0"
      },
      "source": [
        "Построим маппинги из слов в индекс и из тега в индекс:\n"
      ]
    },
    {
      "cell_type": "code",
      "metadata": {
        "colab": {
          "base_uri": "https://localhost:8080/"
        },
        "id": "pCjwwDs6Zq9x",
        "outputId": "e3e17bd0-f025-4ba9-cb45-40651261b6ec"
      },
      "source": [
        "words = {word for sample in train_data for word, tag in sample}\n",
        "word2ind = {word: ind + 1 for ind, word in enumerate(words)}\n",
        "word2ind['<pad>'] = 0\n",
        "\n",
        "tags = {tag for sample in train_data for word, tag in sample}\n",
        "tag2ind = {tag: ind + 1 for ind, tag in enumerate(tags)}\n",
        "tag2ind['<pad>'] = 0\n",
        "\n",
        "print('Unique words in train = {}. Tags = {}'.format(len(word2ind), tags))"
      ],
      "execution_count": null,
      "outputs": [
        {
          "output_type": "stream",
          "text": [
            "Unique words in train = 45441. Tags = {'ADJ', 'VERB', 'PRON', '.', 'PRT', 'X', 'ADP', 'NUM', 'NOUN', 'ADV', 'CONJ', 'DET'}\n"
          ],
          "name": "stdout"
        }
      ]
    },
    {
      "cell_type": "code",
      "metadata": {
        "colab": {
          "base_uri": "https://localhost:8080/",
          "height": 320
        },
        "id": "URC1B2nvPGFt",
        "outputId": "f79466be-11ee-406a-eeb6-cbb280972ce9"
      },
      "source": [
        "import matplotlib.pyplot as plt\n",
        "%matplotlib inline\n",
        "\n",
        "from collections import Counter\n",
        "\n",
        "tag_distribution = Counter(tag for sample in train_data for _, tag in sample)\n",
        "tag_distribution = [tag_distribution[tag] for tag in tags]\n",
        "\n",
        "plt.figure(figsize=(10, 5))\n",
        "\n",
        "bar_width = 0.35\n",
        "plt.bar(np.arange(len(tags)), tag_distribution, bar_width, align='center', alpha=0.5)\n",
        "plt.xticks(np.arange(len(tags)), tags)\n",
        "    \n",
        "plt.show()"
      ],
      "execution_count": null,
      "outputs": [
        {
          "output_type": "display_data",
          "data": {
            "image/png": "[encoded data removed]",
            "text/plain": [
              "<Figure size 720x360 with 1 Axes>"
            ]
          },
          "metadata": {
            "tags": [],
            "needs_background": "light"
          }
        }
      ]
    },
    {
      "cell_type": "markdown",
      "metadata": {
        "id": "gArQwbzWWkgi"
      },
      "source": [
        "## Бейзлайн\n",
        "\n",
        "Какой самый простой теггер можно придумать? Давайте просто запоминать, какие теги самые вероятные для слова (или для последовательности):\n",
        "\n",
        "![tag-context](https://www.nltk.org/images/tag-context.png)  \n",
        "*From [Categorizing and Tagging Words, nltk](https://www.nltk.org/book/ch05.html)*\n",
        "\n",
        "На картинке показано, что для предсказания $t_n$ используются два предыдущих предсказанных тега + текущее слово. По корпусу считаются вероятность для $P(t_n| w_n, t_{n-1}, t_{n-2})$, выбирается тег с максимальной вероятностью.\n",
        "\n",
        "Более аккуратно такая идея реализована в Hidden Markov Models: по тренировочному корпусу вычисляются вероятности $P(w_n| t_n), P(t_n|t_{n-1}, t_{n-2})$ и максимизируется их произведение.\n",
        "\n",
        "Простейший вариант - униграммная модель, учитывающая только слово:"
      ]
    },
    {
      "cell_type": "code",
      "metadata": {
        "colab": {
          "base_uri": "https://localhost:8080/"
        },
        "id": "5rWmSToIaeAo",
        "outputId": "814e3c2d-82d0-4cf9-e50e-0c417c6d5f81"
      },
      "source": [
        "import nltk\n",
        "\n",
        "default_tagger = nltk.DefaultTagger('NN')\n",
        "\n",
        "unigram_tagger = nltk.UnigramTagger(train_data, backoff=default_tagger)\n",
        "print('Accuracy of unigram tagger = {:.2%}'.format(unigram_tagger.evaluate(test_data)))"
      ],
      "execution_count": null,
      "outputs": [
        {
          "output_type": "stream",
          "text": [
            "Accuracy of unigram tagger = 92.62%\n"
          ],
          "name": "stdout"
        }
      ]
    },
    {
      "cell_type": "markdown",
      "metadata": {
        "id": "07Ymb_MkbWsF"
      },
      "source": [
        "Добавим вероятности переходов:"
      ]
    },
    {
      "cell_type": "code",
      "metadata": {
        "colab": {
          "base_uri": "https://localhost:8080/"
        },
        "id": "vjz_Rk0bbMyH",
        "outputId": "93df382a-38bd-4f44-ad6b-d1ebd262264b"
      },
      "source": [
        "bigram_tagger = nltk.BigramTagger(train_data, backoff=unigram_tagger)\n",
        "print('Accuracy of bigram tagger = {:.2%}'.format(bigram_tagger.evaluate(test_data)))"
      ],
      "execution_count": null,
      "outputs": [
        {
          "output_type": "stream",
          "text": [
            "Accuracy of bigram tagger = 93.42%\n"
          ],
          "name": "stdout"
        }
      ]
    },
    {
      "cell_type": "markdown",
      "metadata": {
        "id": "uWMw6QHvbaDd"
      },
      "source": [
        "Обратите внимание, что `backoff` важен:"
      ]
    },
    {
      "cell_type": "code",
      "metadata": {
        "colab": {
          "base_uri": "https://localhost:8080/"
        },
        "id": "8XCuxEBVbOY_",
        "outputId": "b2ba40a3-231a-4610-ca9a-9e5942fecf75"
      },
      "source": [
        "trigram_tagger = nltk.TrigramTagger(train_data)\n",
        "print('Accuracy of trigram tagger = {:.2%}'.format(trigram_tagger.evaluate(test_data)))"
      ],
      "execution_count": null,
      "outputs": [
        {
          "output_type": "stream",
          "text": [
            "Accuracy of trigram tagger = 23.33%\n"
          ],
          "name": "stdout"
        }
      ]
    },
    {
      "cell_type": "markdown",
      "metadata": {
        "id": "4t3xyYd__8d-"
      },
      "source": [
        "## Увеличиваем контекст с рекуррентными сетями\n",
        "\n",
        "Униграмная модель работает на удивление хорошо, но мы же собрались учить сеточки.\n",
        "\n",
        "Омонимия - основная причина, почему униграмная модель плоха:  \n",
        "*“he cashed a check at the **bank**”*  \n",
        "vs  \n",
        "*“he sat on the **bank** of the river”*\n",
        "\n",
        "Поэтому нам очень полезно учитывать контекст при предсказании тега.\n",
        "\n",
        "Воспользуемся LSTM - он умеет работать с контекстом очень даже хорошо:\n",
        "\n",
        "![](https://image.ibb.co/kgmoff/Baseline-Tagger.png)\n",
        "\n",
        "Синим показано выделение фичей из слова, LSTM оранжевенький - он строит эмбеддинги слов с учетом контекста, а дальше зелененькая логистическая регрессия делает предсказания тегов."
      ]
    },
    {
      "cell_type": "code",
      "metadata": {
        "id": "RtRbz1SwgEqc"
      },
      "source": [
        "def convert_data(data, word2ind, tag2ind):\n",
        "    X = [[word2ind.get(word, 0) for word, _ in sample] for sample in data]\n",
        "    y = [[tag2ind[tag] for _, tag in sample] for sample in data]\n",
        "    \n",
        "    return X, y\n",
        "\n",
        "X_train, y_train = convert_data(train_data, word2ind, tag2ind)\n",
        "X_val, y_val = convert_data(val_data, word2ind, tag2ind)\n",
        "X_test, y_test = convert_data(test_data, word2ind, tag2ind)"
      ],
      "execution_count": null,
      "outputs": []
    },
    {
      "cell_type": "code",
      "metadata": {
        "id": "DhsTKZalfih6"
      },
      "source": [
        "def iterate_batches(data, batch_size):\n",
        "    X, y = data\n",
        "    n_samples = len(X)\n",
        "\n",
        "    indices = np.arange(n_samples)\n",
        "    np.random.shuffle(indices)\n",
        "    \n",
        "    for start in range(0, n_samples, batch_size):\n",
        "        end = min(start + batch_size, n_samples)\n",
        "        \n",
        "        batch_indices = indices[start:end]\n",
        "        \n",
        "        max_sent_len = max(len(X[ind]) for ind in batch_indices)\n",
        "        X_batch = np.zeros((max_sent_len, len(batch_indices)))\n",
        "        y_batch = np.zeros((max_sent_len, len(batch_indices)))\n",
        "        \n",
        "        for batch_ind, sample_ind in enumerate(batch_indices):\n",
        "            X_batch[:len(X[sample_ind]), batch_ind] = X[sample_ind]\n",
        "            y_batch[:len(y[sample_ind]), batch_ind] = y[sample_ind]\n",
        "            \n",
        "        yield X_batch, y_batch"
      ],
      "execution_count": null,
      "outputs": []
    },
    {
      "cell_type": "code",
      "metadata": {
        "id": "l4XsRII5kW5x",
        "colab": {
          "base_uri": "https://localhost:8080/"
        },
        "outputId": "eed5f205-d3a6-4147-c0cc-c4f12978b5b4"
      },
      "source": [
        "X_batch, y_batch = next(iterate_batches((X_train, y_train), 4))\n",
        "\n",
        "X_batch.shape, y_batch.shape"
      ],
      "execution_count": null,
      "outputs": [
        {
          "output_type": "execute_result",
          "data": {
            "text/plain": [
              "((32, 4), (32, 4))"
            ]
          },
          "metadata": {
            "tags": []
          },
          "execution_count": 13
        }
      ]
    },
    {
      "cell_type": "markdown",
      "metadata": {
        "id": "C5I9E9P6eFYv"
      },
      "source": [
        "**Задание** Реализуйте `LSTMTagger`:"
      ]
    },
    {
      "cell_type": "code",
      "metadata": {
        "id": "WVEHju54d68T"
      },
      "source": [
        "class LSTMTagger(nn.Module):\n",
        "    def __init__(self, vocab_size, tagset_size, word_emb_dim=100, lstm_hidden_dim=128, lstm_layers_count=1, bidirectional=False):\n",
        "        super().__init__()\n",
        "        self.embedding = nn.Embedding(num_embeddings=vocab_size, embedding_dim=word_emb_dim, padding_idx=0)\n",
        "\n",
        "        num_directions = int(bidirectional) + 1\n",
        "        self.lstm = nn.LSTM(input_size=word_emb_dim, hidden_size=lstm_hidden_dim, num_layers=lstm_layers_count, bidirectional=bidirectional)\n",
        "\n",
        "        self.linear = nn.Linear(lstm_hidden_dim * num_directions, tagset_size)\n",
        "\n",
        "    def forward(self, inputs):\n",
        "        embedding_fwd = self.embedding(inputs) # (sentence_len, batch_size, num_embeddings)\n",
        "        lstm_fwd, lstm_hc = self.lstm(embedding_fwd) # h and c are initialized by zeros. (sentence_len, batch_size, lstm_hidden_dim * num_directions)\n",
        "        linear_fwd = self.linear(lstm_fwd) # (sentence_len, batch_size, tagset_size)\n",
        "        tag_probs = F.softmax(linear_fwd, dim=2) # same shape\n",
        "        return tag_probs"
      ],
      "execution_count": null,
      "outputs": []
    },
    {
      "cell_type": "markdown",
      "metadata": {
        "id": "q_HA8zyheYGH"
      },
      "source": [
        "**Задание** Научитесь считать accuracy и loss (а заодно проверьте, что модель работает)"
      ]
    },
    {
      "cell_type": "code",
      "metadata": {
        "id": "jbrxsZ2mehWB",
        "colab": {
          "base_uri": "https://localhost:8080/"
        },
        "outputId": "492808fd-1559-48c1-9158-ff9475ab4e0c"
      },
      "source": [
        "model = LSTMTagger(\n",
        "    vocab_size=len(word2ind),\n",
        "    tagset_size=len(tag2ind)\n",
        ")\n",
        "\n",
        "X_batch, y_batch = torch.LongTensor(X_batch), torch.LongTensor(y_batch)\n",
        "\n",
        "logits = model(X_batch)\n",
        "\n",
        "_, indices = torch.max(logits, dim=-1)\n",
        "pad_mask = (y_batch == 0)\n",
        "print('Correct_samples: ', torch.sum((indices == y_batch) & ~pad_mask).item())"
      ],
      "execution_count": null,
      "outputs": [
        {
          "output_type": "stream",
          "text": [
            "Correct_samples:  7\n"
          ],
          "name": "stdout"
        }
      ]
    },
    {
      "cell_type": "code",
      "metadata": {
        "id": "GMUyUm1hgpe3",
        "colab": {
          "base_uri": "https://localhost:8080/"
        },
        "outputId": "a8a9e976-bff8-4cbb-a07e-7f87d141df2d"
      },
      "source": [
        "criterion = nn.CrossEntropyLoss(ignore_index=0)\n",
        "loss_value = criterion(logits.permute(1, 2, 0), y_batch.permute(1, 0))\n",
        "loss_value"
      ],
      "execution_count": null,
      "outputs": [
        {
          "output_type": "execute_result",
          "data": {
            "text/plain": [
              "tensor(2.5646, grad_fn=<NllLoss2DBackward>)"
            ]
          },
          "metadata": {
            "tags": []
          },
          "execution_count": 16
        }
      ]
    },
    {
      "cell_type": "markdown",
      "metadata": {
        "id": "nSgV3NPUpcjH"
      },
      "source": [
        "**Задание** Вставьте эти вычисление в функцию:"
      ]
    },
    {
      "cell_type": "code",
      "metadata": {
        "id": "FprPQ0gllo7b"
      },
      "source": [
        "import math\n",
        "from tqdm import tqdm\n",
        "\n",
        "\n",
        "def do_epoch(model, criterion, data, batch_size, optimizer=None, name=None):\n",
        "    epoch_loss = 0\n",
        "    correct_count = 0\n",
        "    sum_count = 0\n",
        "    \n",
        "    is_train = not optimizer is None\n",
        "    name = name or ''\n",
        "    model.train(is_train)\n",
        "    \n",
        "    batches_count = math.ceil(len(data[0]) / batch_size)\n",
        "    \n",
        "    with torch.autograd.set_grad_enabled(is_train):\n",
        "        with tqdm(total=batches_count) as progress_bar:\n",
        "            for i, (X_batch, y_batch) in enumerate(iterate_batches(data, batch_size)):\n",
        "                X_batch, y_batch = LongTensor(X_batch), LongTensor(y_batch)\n",
        "                logits = model(X_batch)\n",
        "\n",
        "                loss = criterion(logits.permute(1, 2, 0), y_batch.permute(1, 0))\n",
        "\n",
        "                epoch_loss += loss.item()\n",
        "\n",
        "                if optimizer:\n",
        "                    optimizer.zero_grad()\n",
        "                    loss.backward()\n",
        "                    optimizer.step()\n",
        "\n",
        "                _, indices = torch.max(logits, dim=-1)\n",
        "                pad_mask = (y_batch == 0)\n",
        "                cur_correct_count, cur_sum_count = torch.sum((indices == y_batch) & ~pad_mask).item(), torch.numel(y_batch[~pad_mask])\n",
        "\n",
        "                correct_count += cur_correct_count\n",
        "                sum_count += cur_sum_count\n",
        "\n",
        "                progress_bar.update()\n",
        "                progress_bar.set_description('{:>5s} Loss = {:.5f}, Accuracy = {:.2%}'.format(\n",
        "                    name, loss.item(), cur_correct_count / cur_sum_count)\n",
        "                )\n",
        "                \n",
        "            progress_bar.set_description('{:>5s} Loss = {:.5f}, Accuracy = {:.2%}'.format(\n",
        "                name, epoch_loss / batches_count, correct_count / sum_count)\n",
        "            )\n",
        "\n",
        "    return epoch_loss / batches_count, correct_count / sum_count\n",
        "\n",
        "\n",
        "def fit(model, criterion, optimizer, train_data, epochs_count=1, batch_size=32,\n",
        "        val_data=None, val_batch_size=None):\n",
        "        \n",
        "    if not val_data is None and val_batch_size is None:\n",
        "        val_batch_size = batch_size\n",
        "        \n",
        "    loss_history = []\n",
        "    train_history = []\n",
        "    val_history = []\n",
        "\n",
        "    for epoch in range(epochs_count):\n",
        "        name_prefix = '[{} / {}] '.format(epoch + 1, epochs_count)\n",
        "        train_loss, train_acc = do_epoch(model, criterion, train_data, batch_size, optimizer, name_prefix + 'Train:')\n",
        "\n",
        "        loss_history.append(train_loss)\n",
        "        train_history.append(train_acc)\n",
        "        \n",
        "        if not val_data is None:\n",
        "            val_loss, val_acc = do_epoch(model, criterion, val_data, val_batch_size, None, name_prefix + '  Val:')\n",
        "        \n",
        "        val_history.append(val_acc)\n",
        "    \n",
        "    return loss_history, train_history, val_history"
      ],
      "execution_count": null,
      "outputs": []
    },
    {
      "cell_type": "code",
      "metadata": {
        "id": "Pqfbeh1ltEYa",
        "colab": {
          "base_uri": "https://localhost:8080/"
        },
        "outputId": "d5758969-95a3-401e-f51f-14d228ef10d4"
      },
      "source": [
        "model = LSTMTagger(\n",
        "    vocab_size=len(word2ind),\n",
        "    tagset_size=len(tag2ind)\n",
        ").cuda()\n",
        "\n",
        "criterion = nn.CrossEntropyLoss(ignore_index=0).cuda()\n",
        "optimizer = optim.Adam(model.parameters())\n",
        "\n",
        "loss_history, train_history, val_history = fit(model, criterion, optimizer, train_data=(X_train, y_train), epochs_count=50,\n",
        "    batch_size=64, val_data=(X_val, y_val), val_batch_size=512)"
      ],
      "execution_count": null,
      "outputs": [
        {
          "output_type": "stream",
          "text": [
            "[1 / 50] Train: Loss = 2.02047, Accuracy = 68.73%: 100%|██████████| 572/572 [00:05<00:00, 99.20it/s] \n",
            "[1 / 50]   Val: Loss = 1.91684, Accuracy = 77.57%: 100%|██████████| 13/13 [00:00<00:00, 87.47it/s]\n",
            "[2 / 50] Train: Loss = 1.89465, Accuracy = 79.65%: 100%|██████████| 572/572 [00:05<00:00, 111.81it/s]\n",
            "[2 / 50]   Val: Loss = 1.87410, Accuracy = 81.61%: 100%|██████████| 13/13 [00:00<00:00, 89.06it/s]\n",
            "[3 / 50] Train: Loss = 1.86345, Accuracy = 82.65%: 100%|██████████| 572/572 [00:05<00:00, 108.72it/s]\n",
            "[3 / 50]   Val: Loss = 1.85476, Accuracy = 83.51%: 100%|██████████| 13/13 [00:00<00:00, 85.38it/s]\n",
            "[4 / 50] Train: Loss = 1.84233, Accuracy = 84.72%: 100%|██████████| 572/572 [00:05<00:00, 108.32it/s]\n",
            "[4 / 50]   Val: Loss = 1.84258, Accuracy = 84.68%: 100%|██████████| 13/13 [00:00<00:00, 91.67it/s]\n",
            "[5 / 50] Train: Loss = 1.83375, Accuracy = 85.54%: 100%|██████████| 572/572 [00:05<00:00, 106.57it/s]\n",
            "[5 / 50]   Val: Loss = 1.83836, Accuracy = 85.04%: 100%|██████████| 13/13 [00:00<00:00, 90.83it/s]\n",
            "[6 / 50] Train: Loss = 1.81365, Accuracy = 87.64%: 100%|██████████| 572/572 [00:05<00:00, 103.96it/s]\n",
            "[6 / 50]   Val: Loss = 1.80075, Accuracy = 88.96%: 100%|██████████| 13/13 [00:00<00:00, 84.06it/s]\n",
            "[7 / 50] Train: Loss = 1.78499, Accuracy = 90.54%: 100%|██████████| 572/572 [00:05<00:00, 108.27it/s]\n",
            "[7 / 50]   Val: Loss = 1.78949, Accuracy = 90.07%: 100%|██████████| 13/13 [00:00<00:00, 88.61it/s]\n",
            "[8 / 50] Train: Loss = 1.77414, Accuracy = 91.58%: 100%|██████████| 572/572 [00:05<00:00, 109.13it/s]\n",
            "[8 / 50]   Val: Loss = 1.78289, Accuracy = 90.68%: 100%|██████████| 13/13 [00:00<00:00, 86.30it/s]\n",
            "[9 / 50] Train: Loss = 1.76639, Accuracy = 92.34%: 100%|██████████| 572/572 [00:05<00:00, 109.24it/s]\n",
            "[9 / 50]   Val: Loss = 1.77741, Accuracy = 91.23%: 100%|██████████| 13/13 [00:00<00:00, 92.36it/s]\n",
            "[10 / 50] Train: Loss = 1.76114, Accuracy = 92.83%: 100%|██████████| 572/572 [00:05<00:00, 107.89it/s]\n",
            "[10 / 50]   Val: Loss = 1.77499, Accuracy = 91.47%: 100%|██████████| 13/13 [00:00<00:00, 97.33it/s] \n",
            "[11 / 50] Train: Loss = 1.75737, Accuracy = 93.20%: 100%|██████████| 572/572 [00:05<00:00, 108.30it/s]\n",
            "[11 / 50]   Val: Loss = 1.77212, Accuracy = 91.74%: 100%|██████████| 13/13 [00:00<00:00, 85.27it/s]\n",
            "[12 / 50] Train: Loss = 1.75407, Accuracy = 93.51%: 100%|██████████| 572/572 [00:05<00:00, 109.48it/s]\n",
            "[12 / 50]   Val: Loss = 1.77027, Accuracy = 91.93%: 100%|██████████| 13/13 [00:00<00:00, 92.01it/s]\n",
            "[13 / 50] Train: Loss = 1.75110, Accuracy = 93.81%: 100%|██████████| 572/572 [00:05<00:00, 108.67it/s]\n",
            "[13 / 50]   Val: Loss = 1.76697, Accuracy = 92.25%: 100%|██████████| 13/13 [00:00<00:00, 87.74it/s]\n",
            "[14 / 50] Train: Loss = 1.74858, Accuracy = 94.06%: 100%|██████████| 572/572 [00:05<00:00, 105.25it/s]\n",
            "[14 / 50]   Val: Loss = 1.76624, Accuracy = 92.31%: 100%|██████████| 13/13 [00:00<00:00, 88.77it/s]\n",
            "[15 / 50] Train: Loss = 1.74696, Accuracy = 94.21%: 100%|██████████| 572/572 [00:05<00:00, 106.38it/s]\n",
            "[15 / 50]   Val: Loss = 1.76609, Accuracy = 92.33%: 100%|██████████| 13/13 [00:00<00:00, 90.28it/s]\n",
            "[16 / 50] Train: Loss = 1.74562, Accuracy = 94.35%: 100%|██████████| 572/572 [00:05<00:00, 109.02it/s]\n",
            "[16 / 50]   Val: Loss = 1.76423, Accuracy = 92.52%: 100%|██████████| 13/13 [00:00<00:00, 89.02it/s]\n",
            "[17 / 50] Train: Loss = 1.74459, Accuracy = 94.44%: 100%|██████████| 572/572 [00:05<00:00, 106.34it/s]\n",
            "[17 / 50]   Val: Loss = 1.76416, Accuracy = 92.50%: 100%|██████████| 13/13 [00:00<00:00, 89.72it/s]\n",
            "[18 / 50] Train: Loss = 1.74361, Accuracy = 94.53%: 100%|██████████| 572/572 [00:05<00:00, 107.29it/s]\n",
            "[18 / 50]   Val: Loss = 1.76312, Accuracy = 92.61%: 100%|██████████| 13/13 [00:00<00:00, 89.65it/s]\n",
            "[19 / 50] Train: Loss = 1.74240, Accuracy = 94.66%: 100%|██████████| 572/572 [00:05<00:00, 107.84it/s]\n",
            "[19 / 50]   Val: Loss = 1.76224, Accuracy = 92.69%: 100%|██████████| 13/13 [00:00<00:00, 90.25it/s]\n",
            "[20 / 50] Train: Loss = 1.74152, Accuracy = 94.74%: 100%|██████████| 572/572 [00:05<00:00, 107.07it/s]\n",
            "[20 / 50]   Val: Loss = 1.76230, Accuracy = 92.70%: 100%|██████████| 13/13 [00:00<00:00, 92.20it/s]\n",
            "[21 / 50] Train: Loss = 1.74087, Accuracy = 94.80%: 100%|██████████| 572/572 [00:05<00:00, 104.55it/s]\n",
            "[21 / 50]   Val: Loss = 1.76272, Accuracy = 92.66%: 100%|██████████| 13/13 [00:00<00:00, 81.61it/s]\n",
            "[22 / 50] Train: Loss = 1.74027, Accuracy = 94.86%: 100%|██████████| 572/572 [00:05<00:00, 105.26it/s]\n",
            "[22 / 50]   Val: Loss = 1.76196, Accuracy = 92.71%: 100%|██████████| 13/13 [00:00<00:00, 91.55it/s]\n",
            "[23 / 50] Train: Loss = 1.73912, Accuracy = 94.98%: 100%|██████████| 572/572 [00:05<00:00, 106.64it/s]\n",
            "[23 / 50]   Val: Loss = 1.76049, Accuracy = 92.88%: 100%|██████████| 13/13 [00:00<00:00, 88.73it/s]\n",
            "[24 / 50] Train: Loss = 1.73775, Accuracy = 95.12%: 100%|██████████| 572/572 [00:05<00:00, 104.51it/s]\n",
            "[24 / 50]   Val: Loss = 1.75986, Accuracy = 92.92%: 100%|██████████| 13/13 [00:00<00:00, 91.27it/s]\n",
            "[25 / 50] Train: Loss = 1.73699, Accuracy = 95.19%: 100%|██████████| 572/572 [00:05<00:00, 105.76it/s]\n",
            "[25 / 50]   Val: Loss = 1.75971, Accuracy = 92.94%: 100%|██████████| 13/13 [00:00<00:00, 87.46it/s]\n",
            "[26 / 50] Train: Loss = 1.73603, Accuracy = 95.27%: 100%|██████████| 572/572 [00:05<00:00, 106.01it/s]\n",
            "[26 / 50]   Val: Loss = 1.75890, Accuracy = 93.01%: 100%|██████████| 13/13 [00:00<00:00, 87.41it/s]\n",
            "[27 / 50] Train: Loss = 1.73551, Accuracy = 95.34%: 100%|██████████| 572/572 [00:05<00:00, 105.81it/s]\n",
            "[27 / 50]   Val: Loss = 1.75912, Accuracy = 93.00%: 100%|██████████| 13/13 [00:00<00:00, 86.35it/s]\n",
            "[28 / 50] Train: Loss = 1.73325, Accuracy = 95.57%: 100%|██████████| 572/572 [00:05<00:00, 105.11it/s]\n",
            "[28 / 50]   Val: Loss = 1.75661, Accuracy = 93.25%: 100%|██████████| 13/13 [00:00<00:00, 86.62it/s]\n",
            "[29 / 50] Train: Loss = 1.73221, Accuracy = 95.67%: 100%|██████████| 572/572 [00:05<00:00, 104.90it/s]\n",
            "[29 / 50]   Val: Loss = 1.75541, Accuracy = 93.36%: 100%|██████████| 13/13 [00:00<00:00, 87.82it/s]\n",
            "[30 / 50] Train: Loss = 1.73161, Accuracy = 95.73%: 100%|██████████| 572/572 [00:05<00:00, 100.98it/s]\n",
            "[30 / 50]   Val: Loss = 1.75528, Accuracy = 93.40%: 100%|██████████| 13/13 [00:00<00:00, 87.05it/s]\n",
            "[31 / 50] Train: Loss = 1.73019, Accuracy = 95.88%: 100%|██████████| 572/572 [00:05<00:00, 100.22it/s]\n",
            "[31 / 50]   Val: Loss = 1.75392, Accuracy = 93.53%: 100%|██████████| 13/13 [00:00<00:00, 85.87it/s]\n",
            "[32 / 50] Train: Loss = 1.72956, Accuracy = 95.94%: 100%|██████████| 572/572 [00:05<00:00, 103.58it/s]\n",
            "[32 / 50]   Val: Loss = 1.75353, Accuracy = 93.58%: 100%|██████████| 13/13 [00:00<00:00, 84.22it/s]\n",
            "[33 / 50] Train: Loss = 1.72921, Accuracy = 95.97%: 100%|██████████| 572/572 [00:05<00:00, 105.16it/s]\n",
            "[33 / 50]   Val: Loss = 1.75416, Accuracy = 93.51%: 100%|██████████| 13/13 [00:00<00:00, 85.41it/s]\n",
            "[34 / 50] Train: Loss = 1.72864, Accuracy = 96.03%: 100%|██████████| 572/572 [00:05<00:00, 104.72it/s]\n",
            "[34 / 50]   Val: Loss = 1.75425, Accuracy = 93.50%: 100%|██████████| 13/13 [00:00<00:00, 88.57it/s]\n",
            "[35 / 50] Train: Loss = 1.72770, Accuracy = 96.13%: 100%|██████████| 572/572 [00:05<00:00, 105.24it/s]\n",
            "[35 / 50]   Val: Loss = 1.75303, Accuracy = 93.62%: 100%|██████████| 13/13 [00:00<00:00, 85.11it/s]\n",
            "[36 / 50] Train: Loss = 1.72712, Accuracy = 96.18%: 100%|██████████| 572/572 [00:05<00:00, 101.74it/s]\n",
            "[36 / 50]   Val: Loss = 1.75223, Accuracy = 93.71%: 100%|██████████| 13/13 [00:00<00:00, 86.29it/s]\n",
            "[37 / 50] Train: Loss = 1.72669, Accuracy = 96.22%: 100%|██████████| 572/572 [00:05<00:00, 100.20it/s]\n",
            "[37 / 50]   Val: Loss = 1.75219, Accuracy = 93.70%: 100%|██████████| 13/13 [00:00<00:00, 91.85it/s]\n",
            "[38 / 50] Train: Loss = 1.72643, Accuracy = 96.25%: 100%|██████████| 572/572 [00:05<00:00, 103.97it/s]\n",
            "[38 / 50]   Val: Loss = 1.75290, Accuracy = 93.64%: 100%|██████████| 13/13 [00:00<00:00, 85.14it/s]\n",
            "[39 / 50] Train: Loss = 1.72564, Accuracy = 96.33%: 100%|██████████| 572/572 [00:05<00:00, 104.44it/s]\n",
            "[39 / 50]   Val: Loss = 1.75161, Accuracy = 93.77%: 100%|██████████| 13/13 [00:00<00:00, 88.89it/s]\n",
            "[40 / 50] Train: Loss = 1.72380, Accuracy = 96.52%: 100%|██████████| 572/572 [00:05<00:00, 103.18it/s]\n",
            "[40 / 50]   Val: Loss = 1.74924, Accuracy = 94.01%: 100%|██████████| 13/13 [00:00<00:00, 86.25it/s]\n",
            "[41 / 50] Train: Loss = 1.72231, Accuracy = 96.67%: 100%|██████████| 572/572 [00:05<00:00, 101.51it/s]\n",
            "[41 / 50]   Val: Loss = 1.74940, Accuracy = 93.99%: 100%|██████████| 13/13 [00:00<00:00, 82.93it/s]\n",
            "[42 / 50] Train: Loss = 1.72200, Accuracy = 96.70%: 100%|██████████| 572/572 [00:05<00:00, 100.69it/s]\n",
            "[42 / 50]   Val: Loss = 1.74977, Accuracy = 93.96%: 100%|██████████| 13/13 [00:00<00:00, 82.57it/s]\n",
            "[43 / 50] Train: Loss = 1.72165, Accuracy = 96.73%: 100%|██████████| 572/572 [00:05<00:00, 103.08it/s]\n",
            "[43 / 50]   Val: Loss = 1.74930, Accuracy = 93.97%: 100%|██████████| 13/13 [00:00<00:00, 87.53it/s]\n",
            "[44 / 50] Train: Loss = 1.72126, Accuracy = 96.77%: 100%|██████████| 572/572 [00:05<00:00, 100.69it/s]\n",
            "[44 / 50]   Val: Loss = 1.74970, Accuracy = 93.97%: 100%|██████████| 13/13 [00:00<00:00, 84.43it/s]\n",
            "[45 / 50] Train: Loss = 1.72093, Accuracy = 96.80%: 100%|██████████| 572/572 [00:05<00:00, 100.29it/s]\n",
            "[45 / 50]   Val: Loss = 1.74888, Accuracy = 94.04%: 100%|██████████| 13/13 [00:00<00:00, 86.88it/s]\n",
            "[46 / 50] Train: Loss = 1.72071, Accuracy = 96.82%: 100%|██████████| 572/572 [00:05<00:00, 102.02it/s]\n",
            "[46 / 50]   Val: Loss = 1.74892, Accuracy = 94.04%: 100%|██████████| 13/13 [00:00<00:00, 88.25it/s]\n",
            "[47 / 50] Train: Loss = 1.72050, Accuracy = 96.85%: 100%|██████████| 572/572 [00:05<00:00, 102.04it/s]\n",
            "[47 / 50]   Val: Loss = 1.74949, Accuracy = 93.99%: 100%|██████████| 13/13 [00:00<00:00, 79.88it/s]\n",
            "[48 / 50] Train: Loss = 1.72025, Accuracy = 96.87%: 100%|██████████| 572/572 [00:05<00:00, 102.62it/s]\n",
            "[48 / 50]   Val: Loss = 1.74859, Accuracy = 94.07%: 100%|██████████| 13/13 [00:00<00:00, 76.07it/s]\n",
            "[49 / 50] Train: Loss = 1.72000, Accuracy = 96.90%: 100%|██████████| 572/572 [00:05<00:00, 102.46it/s]\n",
            "[49 / 50]   Val: Loss = 1.74789, Accuracy = 94.12%: 100%|██████████| 13/13 [00:00<00:00, 79.64it/s]\n",
            "[50 / 50] Train: Loss = 1.71971, Accuracy = 96.92%: 100%|██████████| 572/572 [00:05<00:00, 102.34it/s]\n",
            "[50 / 50]   Val: Loss = 1.74868, Accuracy = 94.06%: 100%|██████████| 13/13 [00:00<00:00, 89.33it/s]\n"
          ],
          "name": "stderr"
        }
      ]
    },
    {
      "cell_type": "code",
      "metadata": {
        "colab": {
          "base_uri": "https://localhost:8080/",
          "height": 513
        },
        "id": "kt6iN6Oy0npy",
        "outputId": "334c319a-fa65-45c7-d494-6f7bff4a7274"
      },
      "source": [
        "plt.plot(loss_history)\n",
        "plt.show()\n",
        "\n",
        "plt.plot(train_history)\n",
        "plt.plot(val_history)\n",
        "plt.legend(['train', 'val'])\n",
        "plt.show()"
      ],
      "execution_count": null,
      "outputs": [
        {
          "output_type": "display_data",
          "data": {
            "image/png": "[encoded data removed]",
            "text/plain": [
              "<Figure size 432x288 with 1 Axes>"
            ]
          },
          "metadata": {
            "tags": [],
            "needs_background": "light"
          }
        },
        {
          "output_type": "display_data",
          "data": {
            "image/png": "[encoded data removed]",
            "text/plain": [
              "<Figure size 432x288 with 1 Axes>"
            ]
          },
          "metadata": {
            "tags": [],
            "needs_background": "light"
          }
        }
      ]
    },
    {
      "cell_type": "markdown",
      "metadata": {
        "id": "m0qGetIhfUE5"
      },
      "source": [
        "### Masking\n",
        "\n",
        "**Задание** Проверьте себя - не считаете ли вы потери и accuracy на паддингах - очень легко получить высокое качество за счет этого.\n",
        "\n",
        "У функции потерь есть параметр `ignore_index`, для таких целей. Для accuracy нужно использовать маскинг - умножение на маску из нулей и единиц, где нули на позициях паддингов (а потом усреднение по ненулевым позициям в маске)."
      ]
    },
    {
      "cell_type": "markdown",
      "metadata": {
        "id": "nAfV2dEOfHo5"
      },
      "source": [
        "**Задание** Посчитайте качество модели на тесте. Ожидается результат лучше бейзлайна!"
      ]
    },
    {
      "cell_type": "code",
      "metadata": {
        "id": "98wr38_rw55D",
        "colab": {
          "base_uri": "https://localhost:8080/"
        },
        "outputId": "b5ae2242-c158-4cfb-f1eb-4f2e087c1a78"
      },
      "source": [
        "test_loss, test_acc = do_epoch(model, criterion, (X_test, y_test), 32, None, 'Test:')"
      ],
      "execution_count": null,
      "outputs": [
        {
          "output_type": "stream",
          "text": [
            "Test: Loss = 1.74690, Accuracy = 94.24%: 100%|██████████| 448/448 [00:01<00:00, 230.69it/s]\n"
          ],
          "name": "stderr"
        }
      ]
    },
    {
      "cell_type": "markdown",
      "metadata": {
        "id": "PXUTSFaEHbDG"
      },
      "source": [
        "### Bidirectional LSTM\n",
        "\n",
        "Благодаря BiLSTM можно использовать сразу оба контеста при предсказании тега слова. Т.е. для каждого токена $w_i$ forward LSTM будет выдавать представление $\\mathbf{f_i} \\sim (w_1, \\ldots, w_i)$ - построенное по всему левому контексту - и $\\mathbf{b_i} \\sim (w_n, \\ldots, w_i)$ - представление правого контекста. Их конкатенация автоматически захватит весь доступный контекст слова: $\\mathbf{h_i} = [\\mathbf{f_i}, \\mathbf{b_i}] \\sim (w_1, \\ldots, w_n)$.\n",
        "\n",
        "![BiLSTM](https://www.researchgate.net/profile/Wang_Ling/publication/280912217/figure/fig2/AS:391505383575555@1470353565299/Illustration-of-our-neural-network-for-POS-tagging.png)  \n",
        "*From [Finding Function in Form: Compositional Character Models for Open Vocabulary Word Representation](https://arxiv.org/abs/1508.02096)*\n",
        "\n",
        "**Задание** Добавьте Bidirectional LSTM."
      ]
    },
    {
      "cell_type": "code",
      "metadata": {
        "id": "lzH53dj1vUcC",
        "colab": {
          "base_uri": "https://localhost:8080/"
        },
        "outputId": "647bb3f4-662a-44e9-85af-c9e187286032"
      },
      "source": [
        "model_bidir = LSTMTagger(\n",
        "    vocab_size=len(word2ind),\n",
        "    tagset_size=len(tag2ind),\n",
        "    bidirectional=True\n",
        ").cuda()\n",
        "\n",
        "criterion = nn.CrossEntropyLoss(ignore_index=0).cuda()\n",
        "optimizer = optim.Adam(model_bidir.parameters())\n",
        "\n",
        "loss_history, train_history, val_history = fit(model_bidir, criterion, optimizer, train_data=(X_train, y_train), epochs_count=50,\n",
        "    batch_size=64, val_data=(X_val, y_val), val_batch_size=512)"
      ],
      "execution_count": null,
      "outputs": [
        {
          "output_type": "stream",
          "text": [
            "[1 / 50] Train: Loss = 1.99227, Accuracy = 71.22%: 100%|██████████| 572/572 [00:06<00:00, 82.89it/s]\n",
            "[1 / 50]   Val: Loss = 1.90380, Accuracy = 78.71%: 100%|██████████| 13/13 [00:00<00:00, 64.79it/s]\n",
            "[2 / 50] Train: Loss = 1.89232, Accuracy = 79.76%: 100%|██████████| 572/572 [00:06<00:00, 83.94it/s]\n",
            "[2 / 50]   Val: Loss = 1.87544, Accuracy = 81.55%: 100%|██████████| 13/13 [00:00<00:00, 65.65it/s]\n",
            "[3 / 50] Train: Loss = 1.84610, Accuracy = 84.45%: 100%|██████████| 572/572 [00:06<00:00, 82.01it/s]\n",
            "[3 / 50]   Val: Loss = 1.82855, Accuracy = 86.18%: 100%|██████████| 13/13 [00:00<00:00, 68.16it/s]\n",
            "[4 / 50] Train: Loss = 1.81754, Accuracy = 87.24%: 100%|██████████| 572/572 [00:07<00:00, 80.78it/s]\n",
            "[4 / 50]   Val: Loss = 1.81838, Accuracy = 87.12%: 100%|██████████| 13/13 [00:00<00:00, 63.24it/s]\n",
            "[5 / 50] Train: Loss = 1.79734, Accuracy = 89.29%: 100%|██████████| 572/572 [00:06<00:00, 82.35it/s]\n",
            "[5 / 50]   Val: Loss = 1.77623, Accuracy = 91.49%: 100%|██████████| 13/13 [00:00<00:00, 65.94it/s]\n",
            "[6 / 50] Train: Loss = 1.75846, Accuracy = 93.27%: 100%|██████████| 572/572 [00:07<00:00, 81.25it/s]\n",
            "[6 / 50]   Val: Loss = 1.76194, Accuracy = 92.81%: 100%|██████████| 13/13 [00:00<00:00, 66.32it/s]\n",
            "[7 / 50] Train: Loss = 1.74622, Accuracy = 94.43%: 100%|██████████| 572/572 [00:07<00:00, 80.04it/s]\n",
            "[7 / 50]   Val: Loss = 1.75632, Accuracy = 93.40%: 100%|██████████| 13/13 [00:00<00:00, 66.97it/s]\n",
            "[8 / 50] Train: Loss = 1.74027, Accuracy = 94.98%: 100%|██████████| 572/572 [00:07<00:00, 77.93it/s]\n",
            "[8 / 50]   Val: Loss = 1.75319, Accuracy = 93.68%: 100%|██████████| 13/13 [00:00<00:00, 62.63it/s]\n",
            "[9 / 50] Train: Loss = 1.73648, Accuracy = 95.33%: 100%|██████████| 572/572 [00:07<00:00, 80.72it/s]\n",
            "[9 / 50]   Val: Loss = 1.75126, Accuracy = 93.87%: 100%|██████████| 13/13 [00:00<00:00, 66.41it/s]\n",
            "[10 / 50] Train: Loss = 1.73392, Accuracy = 95.56%: 100%|██████████| 572/572 [00:07<00:00, 80.27it/s]\n",
            "[10 / 50]   Val: Loss = 1.75010, Accuracy = 93.95%: 100%|██████████| 13/13 [00:00<00:00, 64.73it/s]\n",
            "[11 / 50] Train: Loss = 1.73173, Accuracy = 95.77%: 100%|██████████| 572/572 [00:06<00:00, 81.73it/s]\n",
            "[11 / 50]   Val: Loss = 1.74813, Accuracy = 94.15%: 100%|██████████| 13/13 [00:00<00:00, 65.61it/s]\n",
            "[12 / 50] Train: Loss = 1.72784, Accuracy = 96.18%: 100%|██████████| 572/572 [00:06<00:00, 82.81it/s]\n",
            "[12 / 50]   Val: Loss = 1.74468, Accuracy = 94.53%: 100%|██████████| 13/13 [00:00<00:00, 68.89it/s]\n",
            "[13 / 50] Train: Loss = 1.72353, Accuracy = 96.61%: 100%|██████████| 572/572 [00:06<00:00, 82.45it/s]\n",
            "[13 / 50]   Val: Loss = 1.74019, Accuracy = 94.96%: 100%|██████████| 13/13 [00:00<00:00, 65.19it/s]\n",
            "[14 / 50] Train: Loss = 1.71965, Accuracy = 96.99%: 100%|██████████| 572/572 [00:07<00:00, 79.03it/s]\n",
            "[14 / 50]   Val: Loss = 1.73908, Accuracy = 95.03%: 100%|██████████| 13/13 [00:00<00:00, 65.53it/s]\n",
            "[15 / 50] Train: Loss = 1.71802, Accuracy = 97.13%: 100%|██████████| 572/572 [00:07<00:00, 80.28it/s]\n",
            "[15 / 50]   Val: Loss = 1.73833, Accuracy = 95.15%: 100%|██████████| 13/13 [00:00<00:00, 59.63it/s]\n",
            "[16 / 50] Train: Loss = 1.71692, Accuracy = 97.23%: 100%|██████████| 572/572 [00:07<00:00, 79.52it/s]\n",
            "[16 / 50]   Val: Loss = 1.73742, Accuracy = 95.23%: 100%|██████████| 13/13 [00:00<00:00, 64.30it/s]\n",
            "[17 / 50] Train: Loss = 1.71553, Accuracy = 97.37%: 100%|██████████| 572/572 [00:07<00:00, 78.80it/s]\n",
            "[17 / 50]   Val: Loss = 1.73631, Accuracy = 95.31%: 100%|██████████| 13/13 [00:00<00:00, 66.68it/s]\n",
            "[18 / 50] Train: Loss = 1.71447, Accuracy = 97.47%: 100%|██████████| 572/572 [00:07<00:00, 80.35it/s]\n",
            "[18 / 50]   Val: Loss = 1.73574, Accuracy = 95.37%: 100%|██████████| 13/13 [00:00<00:00, 60.83it/s]\n",
            "[19 / 50] Train: Loss = 1.71371, Accuracy = 97.54%: 100%|██████████| 572/572 [00:07<00:00, 78.23it/s]\n",
            "[19 / 50]   Val: Loss = 1.73571, Accuracy = 95.38%: 100%|██████████| 13/13 [00:00<00:00, 61.85it/s]\n",
            "[20 / 50] Train: Loss = 1.71297, Accuracy = 97.61%: 100%|██████████| 572/572 [00:07<00:00, 77.49it/s]\n",
            "[20 / 50]   Val: Loss = 1.73481, Accuracy = 95.46%: 100%|██████████| 13/13 [00:00<00:00, 64.40it/s]\n",
            "[21 / 50] Train: Loss = 1.71248, Accuracy = 97.66%: 100%|██████████| 572/572 [00:07<00:00, 79.96it/s]\n",
            "[21 / 50]   Val: Loss = 1.73375, Accuracy = 95.54%: 100%|██████████| 13/13 [00:00<00:00, 62.61it/s]\n",
            "[22 / 50] Train: Loss = 1.71213, Accuracy = 97.69%: 100%|██████████| 572/572 [00:07<00:00, 81.21it/s]\n",
            "[22 / 50]   Val: Loss = 1.73495, Accuracy = 95.42%: 100%|██████████| 13/13 [00:00<00:00, 66.34it/s]\n",
            "[23 / 50] Train: Loss = 1.71194, Accuracy = 97.71%: 100%|██████████| 572/572 [00:07<00:00, 79.57it/s]\n",
            "[23 / 50]   Val: Loss = 1.73380, Accuracy = 95.54%: 100%|██████████| 13/13 [00:00<00:00, 64.09it/s]\n",
            "[24 / 50] Train: Loss = 1.71162, Accuracy = 97.74%: 100%|██████████| 572/572 [00:07<00:00, 78.87it/s]\n",
            "[24 / 50]   Val: Loss = 1.73372, Accuracy = 95.56%: 100%|██████████| 13/13 [00:00<00:00, 60.79it/s]\n",
            "[25 / 50] Train: Loss = 1.71126, Accuracy = 97.77%: 100%|██████████| 572/572 [00:07<00:00, 79.52it/s]\n",
            "[25 / 50]   Val: Loss = 1.73322, Accuracy = 95.60%: 100%|██████████| 13/13 [00:00<00:00, 65.19it/s]\n",
            "[26 / 50] Train: Loss = 1.71031, Accuracy = 97.87%: 100%|██████████| 572/572 [00:07<00:00, 78.82it/s]\n",
            "[26 / 50]   Val: Loss = 1.73290, Accuracy = 95.63%: 100%|██████████| 13/13 [00:00<00:00, 66.13it/s]\n",
            "[27 / 50] Train: Loss = 1.70980, Accuracy = 97.92%: 100%|██████████| 572/572 [00:07<00:00, 76.31it/s]\n",
            "[27 / 50]   Val: Loss = 1.73303, Accuracy = 95.64%: 100%|██████████| 13/13 [00:00<00:00, 66.78it/s]\n",
            "[28 / 50] Train: Loss = 1.70938, Accuracy = 97.96%: 100%|██████████| 572/572 [00:07<00:00, 79.55it/s]\n",
            "[28 / 50]   Val: Loss = 1.73248, Accuracy = 95.68%: 100%|██████████| 13/13 [00:00<00:00, 65.77it/s]\n",
            "[29 / 50] Train: Loss = 1.70860, Accuracy = 98.04%: 100%|██████████| 572/572 [00:07<00:00, 79.58it/s]\n",
            "[29 / 50]   Val: Loss = 1.73120, Accuracy = 95.80%: 100%|██████████| 13/13 [00:00<00:00, 62.00it/s]\n",
            "[30 / 50] Train: Loss = 1.70813, Accuracy = 98.08%: 100%|██████████| 572/572 [00:07<00:00, 77.46it/s]\n",
            "[30 / 50]   Val: Loss = 1.73139, Accuracy = 95.80%: 100%|██████████| 13/13 [00:00<00:00, 58.87it/s]\n",
            "[31 / 50] Train: Loss = 1.70746, Accuracy = 98.16%: 100%|██████████| 572/572 [00:07<00:00, 77.57it/s]\n",
            "[31 / 50]   Val: Loss = 1.73072, Accuracy = 95.85%: 100%|██████████| 13/13 [00:00<00:00, 58.39it/s]\n",
            "[32 / 50] Train: Loss = 1.70690, Accuracy = 98.21%: 100%|██████████| 572/572 [00:07<00:00, 77.94it/s]\n",
            "[32 / 50]   Val: Loss = 1.73081, Accuracy = 95.88%: 100%|██████████| 13/13 [00:00<00:00, 62.85it/s]\n",
            "[33 / 50] Train: Loss = 1.70640, Accuracy = 98.26%: 100%|██████████| 572/572 [00:07<00:00, 75.51it/s]\n",
            "[33 / 50]   Val: Loss = 1.72976, Accuracy = 95.95%: 100%|██████████| 13/13 [00:00<00:00, 67.46it/s]\n",
            "[34 / 50] Train: Loss = 1.70615, Accuracy = 98.28%: 100%|██████████| 572/572 [00:07<00:00, 75.67it/s]\n",
            "[34 / 50]   Val: Loss = 1.72980, Accuracy = 95.97%: 100%|██████████| 13/13 [00:00<00:00, 62.81it/s]\n",
            "[35 / 50] Train: Loss = 1.70597, Accuracy = 98.30%: 100%|██████████| 572/572 [00:07<00:00, 78.29it/s]\n",
            "[35 / 50]   Val: Loss = 1.73009, Accuracy = 95.92%: 100%|██████████| 13/13 [00:00<00:00, 62.43it/s]\n",
            "[36 / 50] Train: Loss = 1.70585, Accuracy = 98.31%: 100%|██████████| 572/572 [00:07<00:00, 80.20it/s]\n",
            "[36 / 50]   Val: Loss = 1.72975, Accuracy = 95.95%: 100%|██████████| 13/13 [00:00<00:00, 62.74it/s]\n",
            "[37 / 50] Train: Loss = 1.70548, Accuracy = 98.35%: 100%|██████████| 572/572 [00:07<00:00, 77.36it/s]\n",
            "[37 / 50]   Val: Loss = 1.72906, Accuracy = 96.02%: 100%|██████████| 13/13 [00:00<00:00, 63.85it/s]\n",
            "[38 / 50] Train: Loss = 1.70508, Accuracy = 98.39%: 100%|██████████| 572/572 [00:07<00:00, 77.60it/s]\n",
            "[38 / 50]   Val: Loss = 1.72909, Accuracy = 96.01%: 100%|██████████| 13/13 [00:00<00:00, 65.46it/s]\n",
            "[39 / 50] Train: Loss = 1.70477, Accuracy = 98.42%: 100%|██████████| 572/572 [00:07<00:00, 79.84it/s]\n",
            "[39 / 50]   Val: Loss = 1.72864, Accuracy = 96.07%: 100%|██████████| 13/13 [00:00<00:00, 63.93it/s]\n",
            "[40 / 50] Train: Loss = 1.70460, Accuracy = 98.44%: 100%|██████████| 572/572 [00:07<00:00, 78.95it/s]\n",
            "[40 / 50]   Val: Loss = 1.72854, Accuracy = 96.07%: 100%|██████████| 13/13 [00:00<00:00, 63.26it/s]\n",
            "[41 / 50] Train: Loss = 1.70437, Accuracy = 98.46%: 100%|██████████| 572/572 [00:07<00:00, 79.77it/s]\n",
            "[41 / 50]   Val: Loss = 1.72801, Accuracy = 96.12%: 100%|██████████| 13/13 [00:00<00:00, 63.38it/s]\n",
            "[42 / 50] Train: Loss = 1.70380, Accuracy = 98.52%: 100%|██████████| 572/572 [00:07<00:00, 78.97it/s]\n",
            "[42 / 50]   Val: Loss = 1.72805, Accuracy = 96.10%: 100%|██████████| 13/13 [00:00<00:00, 60.78it/s]\n",
            "[43 / 50] Train: Loss = 1.70350, Accuracy = 98.55%: 100%|██████████| 572/572 [00:07<00:00, 78.10it/s]\n",
            "[43 / 50]   Val: Loss = 1.72813, Accuracy = 96.09%: 100%|██████████| 13/13 [00:00<00:00, 64.99it/s]\n",
            "[44 / 50] Train: Loss = 1.70331, Accuracy = 98.57%: 100%|██████████| 572/572 [00:07<00:00, 78.70it/s]\n",
            "[44 / 50]   Val: Loss = 1.72736, Accuracy = 96.16%: 100%|██████████| 13/13 [00:00<00:00, 64.11it/s]\n",
            "[45 / 50] Train: Loss = 1.70315, Accuracy = 98.59%: 100%|██████████| 572/572 [00:07<00:00, 78.97it/s]\n",
            "[45 / 50]   Val: Loss = 1.72780, Accuracy = 96.14%: 100%|██████████| 13/13 [00:00<00:00, 68.87it/s]\n",
            "[46 / 50] Train: Loss = 1.70293, Accuracy = 98.61%: 100%|██████████| 572/572 [00:07<00:00, 78.65it/s]\n",
            "[46 / 50]   Val: Loss = 1.72750, Accuracy = 96.16%: 100%|██████████| 13/13 [00:00<00:00, 62.89it/s]\n",
            "[47 / 50] Train: Loss = 1.70274, Accuracy = 98.62%: 100%|██████████| 572/572 [00:07<00:00, 76.62it/s]\n",
            "[47 / 50]   Val: Loss = 1.72737, Accuracy = 96.16%: 100%|██████████| 13/13 [00:00<00:00, 64.66it/s]\n",
            "[48 / 50] Train: Loss = 1.70268, Accuracy = 98.63%: 100%|██████████| 572/572 [00:07<00:00, 78.20it/s]\n",
            "[48 / 50]   Val: Loss = 1.72727, Accuracy = 96.18%: 100%|██████████| 13/13 [00:00<00:00, 60.07it/s]\n",
            "[49 / 50] Train: Loss = 1.70263, Accuracy = 98.64%: 100%|██████████| 572/572 [00:07<00:00, 77.99it/s]\n",
            "[49 / 50]   Val: Loss = 1.72718, Accuracy = 96.21%: 100%|██████████| 13/13 [00:00<00:00, 65.03it/s]\n",
            "[50 / 50] Train: Loss = 1.70250, Accuracy = 98.65%: 100%|██████████| 572/572 [00:07<00:00, 75.68it/s]\n",
            "[50 / 50]   Val: Loss = 1.72688, Accuracy = 96.22%: 100%|██████████| 13/13 [00:00<00:00, 61.48it/s]\n"
          ],
          "name": "stderr"
        }
      ]
    },
    {
      "cell_type": "code",
      "metadata": {
        "colab": {
          "base_uri": "https://localhost:8080/",
          "height": 517
        },
        "id": "BUFvkKa4DNWS",
        "outputId": "f939c617-d69e-4fed-b6c8-48865c31ce89"
      },
      "source": [
        "plt.plot(loss_history)\n",
        "plt.show()\n",
        "\n",
        "plt.plot(train_history)\n",
        "plt.plot(val_history)\n",
        "plt.legend(['train', 'val'])\n",
        "plt.show()"
      ],
      "execution_count": null,
      "outputs": [
        {
          "output_type": "display_data",
          "data": {
            "image/png": "[encoded data removed]",
            "text/plain": [
              "<Figure size 432x288 with 1 Axes>"
            ]
          },
          "metadata": {
            "tags": [],
            "needs_background": "light"
          }
        },
        {
          "output_type": "display_data",
          "data": {
            "image/png": "[encoded data removed]",
            "text/plain": [
              "<Figure size 432x288 with 1 Axes>"
            ]
          },
          "metadata": {
            "tags": [],
            "needs_background": "light"
          }
        }
      ]
    },
    {
      "cell_type": "code",
      "metadata": {
        "colab": {
          "base_uri": "https://localhost:8080/"
        },
        "id": "8oWCUd8lDXVP",
        "outputId": "a89e59be-a1df-4185-f696-cb46b565bcec"
      },
      "source": [
        "test_loss, test_acc = do_epoch(model_bidir, criterion, (X_test, y_test), 32, None, 'Test:')"
      ],
      "execution_count": null,
      "outputs": [
        {
          "output_type": "stream",
          "text": [
            "Test: Loss = 1.72583, Accuracy = 96.34%: 100%|██████████| 448/448 [00:02<00:00, 193.99it/s]\n"
          ],
          "name": "stderr"
        }
      ]
    },
    {
      "cell_type": "markdown",
      "metadata": {
        "id": "ZTXmYGD_ANhm"
      },
      "source": [
        "### Предобученные эмбеддинги\n",
        "\n",
        "Мы знаем, какая клёвая вещь - предобученные эмбеддинги. При текущем размере обучающей выборки еще можно было учить их и с нуля - с меньшей было бы совсем плохо.\n",
        "\n",
        "Поэтому стандартный пайплайн - скачать эмбеддинги, засунуть их в сеточку. Запустим его:"
      ]
    },
    {
      "cell_type": "code",
      "metadata": {
        "id": "uZpY_Q1xZ18h"
      },
      "source": [
        "import gensim.downloader as api\n",
        "\n",
        "w2v_model = api.load('glove-wiki-gigaword-100')"
      ],
      "execution_count": null,
      "outputs": []
    },
    {
      "cell_type": "markdown",
      "metadata": {
        "id": "KYogOoKlgtcf"
      },
      "source": [
        "Построим подматрицу для слов из нашей тренировочной выборки:"
      ]
    },
    {
      "cell_type": "code",
      "metadata": {
        "id": "VsCstxiO03oT",
        "colab": {
          "base_uri": "https://localhost:8080/"
        },
        "outputId": "4a8c7ec1-f36a-4cb8-dc24-13b516521867"
      },
      "source": [
        "known_count = 0\n",
        "embeddings = np.zeros((len(word2ind), w2v_model.vectors.shape[1]))\n",
        "for word, ind in word2ind.items():\n",
        "    word = word.lower()\n",
        "    if word in w2v_model.vocab:\n",
        "        embeddings[ind] = w2v_model.get_vector(word)\n",
        "        known_count += 1\n",
        "        \n",
        "print('Know {} out of {} word embeddings'.format(known_count, len(word2ind)))"
      ],
      "execution_count": null,
      "outputs": [
        {
          "output_type": "stream",
          "text": [
            "Know 38736 out of 45441 word embeddings\n"
          ],
          "name": "stdout"
        }
      ]
    },
    {
      "cell_type": "markdown",
      "metadata": {
        "id": "HcG7i-R8hbY3"
      },
      "source": [
        "**Задание** Сделайте модель с предобученной матрицей. Используйте `nn.Embedding.from_pretrained`."
      ]
    },
    {
      "cell_type": "code",
      "metadata": {
        "id": "LxaRBpQd0pat"
      },
      "source": [
        "class LSTMTaggerWithPretrainedEmbs(nn.Module):\n",
        "    def __init__(self, embeddings, tagset_size, lstm_hidden_dim=64, lstm_layers_count=1, bidirectional=False):\n",
        "        super().__init__()\n",
        "        self.embedding = nn.Embedding.from_pretrained(embeddings=embeddings, freeze=False, padding_idx=0)\n",
        "        \n",
        "        num_directions = int(bidirectional) + 1\n",
        "        self.lstm = nn.LSTM(input_size=embeddings.shape[1], hidden_size=lstm_hidden_dim, num_layers=lstm_layers_count, bidirectional=bidirectional)\n",
        "\n",
        "        self.linear = nn.Linear(lstm_hidden_dim * num_directions, tagset_size)\n",
        "\n",
        "    def forward(self, inputs):\n",
        "        embedding_fwd = self.embedding(inputs) # (sentence_len, batch_size, num_embeddings)\n",
        "        lstm_fwd, lstm_hc = self.lstm(embedding_fwd) # h and c are initialized by zeros. (sentence_len, batch_size, lstm_hidden_dim * num_directions)\n",
        "        linear_fwd = self.linear(lstm_fwd) # (sentence_len, batch_size, tagset_size)\n",
        "        tag_probs = F.softmax(linear_fwd, dim=2) # same shape\n",
        "        return tag_probs"
      ],
      "execution_count": null,
      "outputs": []
    },
    {
      "cell_type": "code",
      "metadata": {
        "id": "EBtI6BDE-Fc7",
        "colab": {
          "base_uri": "https://localhost:8080/"
        },
        "outputId": "630583ea-2ccc-4aeb-824b-1ef30299bd72"
      },
      "source": [
        "model = LSTMTaggerWithPretrainedEmbs(\n",
        "    embeddings=torch.Tensor(embeddings),\n",
        "    tagset_size=len(tag2ind), \n",
        "    bidirectional=True\n",
        ").cuda()\n",
        "\n",
        "criterion = nn.CrossEntropyLoss(ignore_index=0)\n",
        "optimizer = optim.Adam(model.parameters())\n",
        "\n",
        "loss_history, train_history, val_history = fit(model, criterion, optimizer, train_data=(X_train, y_train), epochs_count=50,\n",
        "    batch_size=64, val_data=(X_val, y_val), val_batch_size=512)"
      ],
      "execution_count": null,
      "outputs": [
        {
          "output_type": "stream",
          "text": [
            "[1 / 50] Train: Loss = 1.99590, Accuracy = 70.73%: 100%|██████████| 572/572 [00:06<00:00, 86.82it/s]\n",
            "[1 / 50]   Val: Loss = 1.89559, Accuracy = 79.22%: 100%|██████████| 13/13 [00:00<00:00, 83.23it/s]\n",
            "[2 / 50] Train: Loss = 1.80529, Accuracy = 88.72%: 100%|██████████| 572/572 [00:06<00:00, 84.17it/s]\n",
            "[2 / 50]   Val: Loss = 1.76906, Accuracy = 92.30%: 100%|██████████| 13/13 [00:00<00:00, 97.10it/s]\n",
            "[3 / 50] Train: Loss = 1.75267, Accuracy = 93.83%: 100%|██████████| 572/572 [00:06<00:00, 88.50it/s]\n",
            "[3 / 50]   Val: Loss = 1.75688, Accuracy = 93.36%: 100%|██████████| 13/13 [00:00<00:00, 92.10it/s]\n",
            "[4 / 50] Train: Loss = 1.74441, Accuracy = 94.54%: 100%|██████████| 572/572 [00:06<00:00, 89.43it/s]\n",
            "[4 / 50]   Val: Loss = 1.75317, Accuracy = 93.63%: 100%|██████████| 13/13 [00:00<00:00, 95.65it/s]\n",
            "[5 / 50] Train: Loss = 1.74130, Accuracy = 94.80%: 100%|██████████| 572/572 [00:06<00:00, 89.98it/s]\n",
            "[5 / 50]   Val: Loss = 1.75194, Accuracy = 93.73%: 100%|██████████| 13/13 [00:00<00:00, 95.57it/s]\n",
            "[6 / 50] Train: Loss = 1.73966, Accuracy = 94.94%: 100%|██████████| 572/572 [00:06<00:00, 88.92it/s]\n",
            "[6 / 50]   Val: Loss = 1.75155, Accuracy = 93.75%: 100%|██████████| 13/13 [00:00<00:00, 88.92it/s]\n",
            "[7 / 50] Train: Loss = 1.73852, Accuracy = 95.03%: 100%|██████████| 572/572 [00:06<00:00, 89.25it/s]\n",
            "[7 / 50]   Val: Loss = 1.75125, Accuracy = 93.78%: 100%|██████████| 13/13 [00:00<00:00, 93.25it/s]\n",
            "[8 / 50] Train: Loss = 1.73766, Accuracy = 95.11%: 100%|██████████| 572/572 [00:06<00:00, 88.50it/s]\n",
            "[8 / 50]   Val: Loss = 1.75088, Accuracy = 93.81%: 100%|██████████| 13/13 [00:00<00:00, 89.61it/s]\n",
            "[9 / 50] Train: Loss = 1.71927, Accuracy = 97.06%: 100%|██████████| 572/572 [00:06<00:00, 89.17it/s]\n",
            "[9 / 50]   Val: Loss = 1.72927, Accuracy = 96.03%: 100%|██████████| 13/13 [00:00<00:00, 94.73it/s]\n",
            "[10 / 50] Train: Loss = 1.70715, Accuracy = 98.28%: 100%|██████████| 572/572 [00:06<00:00, 88.39it/s]\n",
            "[10 / 50]   Val: Loss = 1.71838, Accuracy = 97.16%: 100%|██████████| 13/13 [00:00<00:00, 99.11it/s]\n",
            "[11 / 50] Train: Loss = 1.70056, Accuracy = 98.92%: 100%|██████████| 572/572 [00:06<00:00, 88.90it/s]\n",
            "[11 / 50]   Val: Loss = 1.71714, Accuracy = 97.29%: 100%|██████████| 13/13 [00:00<00:00, 94.72it/s]\n",
            "[12 / 50] Train: Loss = 1.69856, Accuracy = 99.11%: 100%|██████████| 572/572 [00:06<00:00, 86.52it/s]\n",
            "[12 / 50]   Val: Loss = 1.71704, Accuracy = 97.30%: 100%|██████████| 13/13 [00:00<00:00, 96.22it/s]\n",
            "[13 / 50] Train: Loss = 1.69763, Accuracy = 99.19%: 100%|██████████| 572/572 [00:06<00:00, 87.89it/s]\n",
            "[13 / 50]   Val: Loss = 1.71717, Accuracy = 97.26%: 100%|██████████| 13/13 [00:00<00:00, 89.06it/s]\n",
            "[14 / 50] Train: Loss = 1.69708, Accuracy = 99.23%: 100%|██████████| 572/572 [00:06<00:00, 87.37it/s]\n",
            "[14 / 50]   Val: Loss = 1.71718, Accuracy = 97.26%: 100%|██████████| 13/13 [00:00<00:00, 94.75it/s]\n",
            "[15 / 50] Train: Loss = 1.69666, Accuracy = 99.27%: 100%|██████████| 572/572 [00:06<00:00, 88.11it/s]\n",
            "[15 / 50]   Val: Loss = 1.71748, Accuracy = 97.22%: 100%|██████████| 13/13 [00:00<00:00, 95.07it/s]\n",
            "[16 / 50] Train: Loss = 1.69636, Accuracy = 99.30%: 100%|██████████| 572/572 [00:06<00:00, 87.69it/s]\n",
            "[16 / 50]   Val: Loss = 1.71749, Accuracy = 97.22%: 100%|██████████| 13/13 [00:00<00:00, 93.23it/s]\n",
            "[17 / 50] Train: Loss = 1.69603, Accuracy = 99.33%: 100%|██████████| 572/572 [00:06<00:00, 86.78it/s]\n",
            "[17 / 50]   Val: Loss = 1.71726, Accuracy = 97.24%: 100%|██████████| 13/13 [00:00<00:00, 91.50it/s]\n",
            "[18 / 50] Train: Loss = 1.69580, Accuracy = 99.35%: 100%|██████████| 572/572 [00:06<00:00, 88.37it/s]\n",
            "[18 / 50]   Val: Loss = 1.71733, Accuracy = 97.22%: 100%|██████████| 13/13 [00:00<00:00, 87.94it/s]\n",
            "[19 / 50] Train: Loss = 1.69538, Accuracy = 99.39%: 100%|██████████| 572/572 [00:06<00:00, 86.42it/s]\n",
            "[19 / 50]   Val: Loss = 1.71748, Accuracy = 97.22%: 100%|██████████| 13/13 [00:00<00:00, 98.22it/s] \n",
            "[20 / 50] Train: Loss = 1.69515, Accuracy = 99.41%: 100%|██████████| 572/572 [00:06<00:00, 86.83it/s]\n",
            "[20 / 50]   Val: Loss = 1.71724, Accuracy = 97.23%: 100%|██████████| 13/13 [00:00<00:00, 97.45it/s]\n",
            "[21 / 50] Train: Loss = 1.69497, Accuracy = 99.43%: 100%|██████████| 572/572 [00:06<00:00, 86.28it/s]\n",
            "[21 / 50]   Val: Loss = 1.71783, Accuracy = 97.18%: 100%|██████████| 13/13 [00:00<00:00, 79.47it/s]\n",
            "[22 / 50] Train: Loss = 1.69484, Accuracy = 99.44%: 100%|██████████| 572/572 [00:06<00:00, 85.64it/s]\n",
            "[22 / 50]   Val: Loss = 1.71844, Accuracy = 97.11%: 100%|██████████| 13/13 [00:00<00:00, 88.77it/s]\n",
            "[23 / 50] Train: Loss = 1.69468, Accuracy = 99.45%: 100%|██████████| 572/572 [00:06<00:00, 87.13it/s]\n",
            "[23 / 50]   Val: Loss = 1.71773, Accuracy = 97.16%: 100%|██████████| 13/13 [00:00<00:00, 96.61it/s]\n",
            "[24 / 50] Train: Loss = 1.69460, Accuracy = 99.46%: 100%|██████████| 572/572 [00:06<00:00, 83.25it/s]\n",
            "[24 / 50]   Val: Loss = 1.71788, Accuracy = 97.15%: 100%|██████████| 13/13 [00:00<00:00, 93.84it/s]\n",
            "[25 / 50] Train: Loss = 1.69452, Accuracy = 99.47%: 100%|██████████| 572/572 [00:06<00:00, 82.05it/s]\n",
            "[25 / 50]   Val: Loss = 1.71784, Accuracy = 97.16%: 100%|██████████| 13/13 [00:00<00:00, 92.95it/s]\n",
            "[26 / 50] Train: Loss = 1.69439, Accuracy = 99.48%: 100%|██████████| 572/572 [00:06<00:00, 82.86it/s]\n",
            "[26 / 50]   Val: Loss = 1.71773, Accuracy = 97.17%: 100%|██████████| 13/13 [00:00<00:00, 93.54it/s]\n",
            "[27 / 50] Train: Loss = 1.69430, Accuracy = 99.49%: 100%|██████████| 572/572 [00:06<00:00, 86.35it/s]\n",
            "[27 / 50]   Val: Loss = 1.71775, Accuracy = 97.16%: 100%|██████████| 13/13 [00:00<00:00, 89.61it/s]\n",
            "[28 / 50] Train: Loss = 1.69422, Accuracy = 99.50%: 100%|██████████| 572/572 [00:06<00:00, 85.36it/s]\n",
            "[28 / 50]   Val: Loss = 1.71749, Accuracy = 97.18%: 100%|██████████| 13/13 [00:00<00:00, 94.94it/s]\n",
            "[29 / 50] Train: Loss = 1.69396, Accuracy = 99.52%: 100%|██████████| 572/572 [00:06<00:00, 86.54it/s]\n",
            "[29 / 50]   Val: Loss = 1.71778, Accuracy = 97.14%: 100%|██████████| 13/13 [00:00<00:00, 92.11it/s]\n",
            "[30 / 50] Train: Loss = 1.69384, Accuracy = 99.53%: 100%|██████████| 572/572 [00:06<00:00, 84.65it/s]\n",
            "[30 / 50]   Val: Loss = 1.71788, Accuracy = 97.14%: 100%|██████████| 13/13 [00:00<00:00, 92.41it/s]\n",
            "[31 / 50] Train: Loss = 1.69377, Accuracy = 99.54%: 100%|██████████| 572/572 [00:06<00:00, 85.84it/s]\n",
            "[31 / 50]   Val: Loss = 1.71781, Accuracy = 97.14%: 100%|██████████| 13/13 [00:00<00:00, 88.21it/s]\n",
            "[32 / 50] Train: Loss = 1.69370, Accuracy = 99.55%: 100%|██████████| 572/572 [00:06<00:00, 85.22it/s]\n",
            "[32 / 50]   Val: Loss = 1.71787, Accuracy = 97.14%: 100%|██████████| 13/13 [00:00<00:00, 88.29it/s]\n",
            "[33 / 50] Train: Loss = 1.69362, Accuracy = 99.56%: 100%|██████████| 572/572 [00:06<00:00, 85.75it/s]\n",
            "[33 / 50]   Val: Loss = 1.71808, Accuracy = 97.12%: 100%|██████████| 13/13 [00:00<00:00, 91.32it/s]\n",
            "[34 / 50] Train: Loss = 1.69353, Accuracy = 99.56%: 100%|██████████| 572/572 [00:06<00:00, 85.68it/s]\n",
            "[34 / 50]   Val: Loss = 1.71835, Accuracy = 97.10%: 100%|██████████| 13/13 [00:00<00:00, 89.07it/s]\n",
            "[35 / 50] Train: Loss = 1.69339, Accuracy = 99.58%: 100%|██████████| 572/572 [00:06<00:00, 85.65it/s]\n",
            "[35 / 50]   Val: Loss = 1.71849, Accuracy = 97.06%: 100%|██████████| 13/13 [00:00<00:00, 91.64it/s]\n",
            "[36 / 50] Train: Loss = 1.69329, Accuracy = 99.59%: 100%|██████████| 572/572 [00:06<00:00, 81.75it/s]\n",
            "[36 / 50]   Val: Loss = 1.71848, Accuracy = 97.09%: 100%|██████████| 13/13 [00:00<00:00, 79.09it/s]\n",
            "[37 / 50] Train: Loss = 1.69322, Accuracy = 99.59%: 100%|██████████| 572/572 [00:07<00:00, 80.80it/s]\n",
            "[37 / 50]   Val: Loss = 1.71843, Accuracy = 97.10%: 100%|██████████| 13/13 [00:00<00:00, 89.13it/s]\n",
            "[38 / 50] Train: Loss = 1.69310, Accuracy = 99.60%: 100%|██████████| 572/572 [00:06<00:00, 85.36it/s]\n",
            "[38 / 50]   Val: Loss = 1.71824, Accuracy = 97.10%: 100%|██████████| 13/13 [00:00<00:00, 89.89it/s]\n",
            "[39 / 50] Train: Loss = 1.69307, Accuracy = 99.61%: 100%|██████████| 572/572 [00:06<00:00, 86.11it/s]\n",
            "[39 / 50]   Val: Loss = 1.71832, Accuracy = 97.09%: 100%|██████████| 13/13 [00:00<00:00, 84.22it/s]\n",
            "[40 / 50] Train: Loss = 1.69298, Accuracy = 99.62%: 100%|██████████| 572/572 [00:06<00:00, 86.12it/s]\n",
            "[40 / 50]   Val: Loss = 1.71890, Accuracy = 97.05%: 100%|██████████| 13/13 [00:00<00:00, 91.63it/s]\n",
            "[41 / 50] Train: Loss = 1.69292, Accuracy = 99.62%: 100%|██████████| 572/572 [00:06<00:00, 84.80it/s]\n",
            "[41 / 50]   Val: Loss = 1.71810, Accuracy = 97.10%: 100%|██████████| 13/13 [00:00<00:00, 93.86it/s]\n",
            "[42 / 50] Train: Loss = 1.69284, Accuracy = 99.63%: 100%|██████████| 572/572 [00:06<00:00, 85.08it/s]\n",
            "[42 / 50]   Val: Loss = 1.71857, Accuracy = 97.05%: 100%|██████████| 13/13 [00:00<00:00, 88.99it/s]\n",
            "[43 / 50] Train: Loss = 1.69286, Accuracy = 99.63%: 100%|██████████| 572/572 [00:06<00:00, 83.30it/s]\n",
            "[43 / 50]   Val: Loss = 1.71862, Accuracy = 97.07%: 100%|██████████| 13/13 [00:00<00:00, 89.69it/s]\n",
            "[44 / 50] Train: Loss = 1.69279, Accuracy = 99.63%: 100%|██████████| 572/572 [00:06<00:00, 85.14it/s]\n",
            "[44 / 50]   Val: Loss = 1.71836, Accuracy = 97.10%: 100%|██████████| 13/13 [00:00<00:00, 91.37it/s]\n",
            "[45 / 50] Train: Loss = 1.69279, Accuracy = 99.63%: 100%|██████████| 572/572 [00:06<00:00, 84.12it/s]\n",
            "[45 / 50]   Val: Loss = 1.71830, Accuracy = 97.10%: 100%|██████████| 13/13 [00:00<00:00, 93.10it/s]\n",
            "[46 / 50] Train: Loss = 1.69276, Accuracy = 99.64%: 100%|██████████| 572/572 [00:06<00:00, 83.21it/s]\n",
            "[46 / 50]   Val: Loss = 1.71838, Accuracy = 97.09%: 100%|██████████| 13/13 [00:00<00:00, 87.73it/s]\n",
            "[47 / 50] Train: Loss = 1.69274, Accuracy = 99.64%: 100%|██████████| 572/572 [00:06<00:00, 83.08it/s]\n",
            "[47 / 50]   Val: Loss = 1.71793, Accuracy = 97.13%: 100%|██████████| 13/13 [00:00<00:00, 92.69it/s]\n",
            "[48 / 50] Train: Loss = 1.69269, Accuracy = 99.64%: 100%|██████████| 572/572 [00:06<00:00, 83.11it/s]\n",
            "[48 / 50]   Val: Loss = 1.71807, Accuracy = 97.12%: 100%|██████████| 13/13 [00:00<00:00, 91.18it/s]\n",
            "[49 / 50] Train: Loss = 1.69268, Accuracy = 99.64%: 100%|██████████| 572/572 [00:06<00:00, 82.76it/s]\n",
            "[49 / 50]   Val: Loss = 1.71830, Accuracy = 97.09%: 100%|██████████| 13/13 [00:00<00:00, 88.05it/s]\n",
            "[50 / 50] Train: Loss = 1.69266, Accuracy = 99.65%: 100%|██████████| 572/572 [00:06<00:00, 83.36it/s]\n",
            "[50 / 50]   Val: Loss = 1.71866, Accuracy = 97.08%: 100%|██████████| 13/13 [00:00<00:00, 89.22it/s]\n"
          ],
          "name": "stderr"
        }
      ]
    },
    {
      "cell_type": "code",
      "metadata": {
        "colab": {
          "base_uri": "https://localhost:8080/",
          "height": 513
        },
        "id": "lnuMjOT3KtgX",
        "outputId": "c228dfdb-7e19-4cd6-b23a-ccce5d18313a"
      },
      "source": [
        "plt.plot(loss_history)\n",
        "plt.show()\n",
        "\n",
        "plt.plot(train_history)\n",
        "plt.plot(val_history)\n",
        "plt.legend(['train', 'val'])\n",
        "plt.show()"
      ],
      "execution_count": null,
      "outputs": [
        {
          "output_type": "display_data",
          "data": {
            "image/png": "[encoded data removed]",
            "text/plain": [
              "<Figure size 432x288 with 1 Axes>"
            ]
          },
          "metadata": {
            "tags": [],
            "needs_background": "light"
          }
        },
        {
          "output_type": "display_data",
          "data": {
            "image/png": "[encoded data removed]",
            "text/plain": [
              "<Figure size 432x288 with 1 Axes>"
            ]
          },
          "metadata": {
            "tags": [],
            "needs_background": "light"
          }
        }
      ]
    },
    {
      "cell_type": "markdown",
      "metadata": {
        "id": "2Ne_8f24h8kg"
      },
      "source": [
        "**Задание** Оцените качество модели на тестовой выборке. Обратите внимание, вовсе не обязательно ограничиваться векторами из урезанной матрицы - вполне могут найтись слова в тесте, которых не было в трейне и для которых есть эмбеддинги.\n",
        "\n",
        "Добейтесь качества лучше прошлых моделей."
      ]
    },
    {
      "cell_type": "code",
      "metadata": {
        "id": "HPUuAPGhEGVR",
        "colab": {
          "base_uri": "https://localhost:8080/"
        },
        "outputId": "d740d6b0-4fec-43d2-fb6f-826974c4ccd1"
      },
      "source": [
        "test_loss, test_acc = do_epoch(model, criterion, (X_test, y_test), 32, None, 'Test:')"
      ],
      "execution_count": null,
      "outputs": [
        {
          "output_type": "stream",
          "text": [
            "Test: Loss = 1.71756, Accuracy = 97.16%: 100%|██████████| 448/448 [00:02<00:00, 190.06it/s]\n"
          ],
          "name": "stderr"
        }
      ]
    },
    {
      "cell_type": "code",
      "metadata": {
        "colab": {
          "base_uri": "https://localhost:8080/"
        },
        "id": "6LWaq-gONI2K",
        "outputId": "20989423-d7c5-4554-fea0-e1ae74b046ef"
      },
      "source": [
        "example_sentence = 'That anonymous letter turned up out of nowhere'\n",
        "\n",
        "example_sentence = example_sentence.split()\n",
        "example_sentence_encoded = torch.from_numpy(np.array([word2ind.get(word, 0) for word in example_sentence])[:, None])\n",
        "result = model(example_sentence_encoded.cuda()).cpu()\n",
        "_, example_tag_indices = torch.max(result, dim=-1)\n",
        "example_tags = [list(tags)[ind-1] for ind in example_tag_indices.numpy().T[0]]\n",
        "example_tags"
      ],
      "execution_count": null,
      "outputs": [
        {
          "output_type": "execute_result",
          "data": {
            "text/plain": [
              "['DET', 'ADJ', 'NOUN', 'VERB', 'PRT', 'PRT', 'ADP', 'ADV']"
            ]
          },
          "metadata": {
            "tags": []
          },
          "execution_count": 64
        }
      ]
    },
    {
      "cell_type": "code",
      "metadata": {
        "id": "JGN-FnbBW29K"
      },
      "source": [
        ""
      ],
      "execution_count": null,
      "outputs": []
    }
  ]
}