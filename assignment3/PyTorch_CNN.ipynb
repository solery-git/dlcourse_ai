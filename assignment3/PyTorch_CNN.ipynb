{
  "nbformat": 4,
  "nbformat_minor": 0,
  "metadata": {
    "accelerator": "GPU",
    "colab": {
      "name": "PyTorch_CNN.ipynb",
      "provenance": [],
      "collapsed_sections": []
    },
    "kernelspec": {
      "display_name": "Python 3",
      "language": "python",
      "name": "python3"
    },
    "language_info": {
      "codemirror_mode": {
        "name": "ipython",
        "version": 3
      },
      "file_extension": ".py",
      "mimetype": "text/x-python",
      "name": "python",
      "nbconvert_exporter": "python",
      "pygments_lexer": "ipython3",
      "version": "3.7.9"
    }
  },
  "cells": [
    {
      "cell_type": "markdown",
      "metadata": {
        "id": "Kf1-_En5TNqP"
      },
      "source": [
        "# Задание 3.2 - сверточные нейронные сети (CNNs) в PyTorch\n",
        "\n",
        "Это упражнение мы буде выполнять в Google Colab - https://colab.research.google.com/  \n",
        "Google Colab позволяет запускать код в notebook в облаке Google, где можно воспользоваться бесплатным GPU!  \n",
        "\n",
        "Авторы курса благодарят компанию Google и надеятся, что праздник не закончится.\n",
        "\n",
        "Туториал по настройке Google Colab:  \n",
        "https://medium.com/deep-learning-turkey/google-colab-free-gpu-tutorial-e113627b9f5d  \n",
        "(Keras инсталлировать не нужно, наш notebook сам установит PyTorch)\n"
      ]
    },
    {
      "cell_type": "code",
      "metadata": {
        "colab": {
          "base_uri": "https://localhost:8080/"
        },
        "id": "zMS1Fao7luJG",
        "outputId": "7e754ec3-49d9-4721-a932-ad85297691f8"
      },
      "source": [
        "from google.colab import drive\n",
        "drive.mount('/content/drive/')"
      ],
      "execution_count": null,
      "outputs": [
        {
          "output_type": "stream",
          "text": [
            "Mounted at /content/drive/\n"
          ],
          "name": "stdout"
        }
      ]
    },
    {
      "cell_type": "code",
      "metadata": {
        "colab": {
          "base_uri": "https://localhost:8080/"
        },
        "id": "FcXBeP1O7cnY",
        "outputId": "5582499a-9d50-4557-ab6f-42efd8d9c365"
      },
      "source": [
        "# Intstall PyTorch and download data\n",
        "!pip3 install torch torchvision\n",
        "\n",
        "!wget -c http://ufldl.stanford.edu/housenumbers/train_32x32.mat http://ufldl.stanford.edu/housenumbers/test_32x32.mat"
      ],
      "execution_count": null,
      "outputs": [
        {
          "output_type": "stream",
          "text": [
            "Requirement already satisfied: torch in /usr/local/lib/python3.6/dist-packages (1.7.0+cu101)\n",
            "Requirement already satisfied: torchvision in /usr/local/lib/python3.6/dist-packages (0.8.1+cu101)\n",
            "Requirement already satisfied: typing-extensions in /usr/local/lib/python3.6/dist-packages (from torch) (3.7.4.3)\n",
            "Requirement already satisfied: dataclasses in /usr/local/lib/python3.6/dist-packages (from torch) (0.8)\n",
            "Requirement already satisfied: numpy in /usr/local/lib/python3.6/dist-packages (from torch) (1.18.5)\n",
            "Requirement already satisfied: future in /usr/local/lib/python3.6/dist-packages (from torch) (0.16.0)\n",
            "Requirement already satisfied: pillow>=4.1.1 in /usr/local/lib/python3.6/dist-packages (from torchvision) (7.0.0)\n",
            "--2020-11-27 07:26:14--  http://ufldl.stanford.edu/housenumbers/train_32x32.mat\n",
            "Resolving ufldl.stanford.edu (ufldl.stanford.edu)... 171.64.68.10\n",
            "Connecting to ufldl.stanford.edu (ufldl.stanford.edu)|171.64.68.10|:80... connected.\n",
            "HTTP request sent, awaiting response... 200 OK\n",
            "Length: 182040794 (174M) [text/plain]\n",
            "Saving to: ‘train_32x32.mat’\n",
            "\n",
            "train_32x32.mat     100%[===================>] 173.61M  13.7MB/s    in 13s     \n",
            "\n",
            "2020-11-27 07:26:27 (13.8 MB/s) - ‘train_32x32.mat’ saved [182040794/182040794]\n",
            "\n",
            "--2020-11-27 07:26:27--  http://ufldl.stanford.edu/housenumbers/test_32x32.mat\n",
            "Reusing existing connection to ufldl.stanford.edu:80.\n",
            "HTTP request sent, awaiting response... 200 OK\n",
            "Length: 64275384 (61M) [text/plain]\n",
            "Saving to: ‘test_32x32.mat’\n",
            "\n",
            "test_32x32.mat      100%[===================>]  61.30M  37.9MB/s    in 1.6s    \n",
            "\n",
            "2020-11-27 07:26:29 (37.9 MB/s) - ‘test_32x32.mat’ saved [64275384/64275384]\n",
            "\n",
            "FINISHED --2020-11-27 07:26:29--\n",
            "Total wall clock time: 14s\n",
            "Downloaded: 2 files, 235M in 14s (16.6 MB/s)\n"
          ],
          "name": "stdout"
        }
      ]
    },
    {
      "cell_type": "code",
      "metadata": {
        "id": "-afwWw-Q85vD"
      },
      "source": [
        "from collections import namedtuple\n",
        "from itertools import product\n",
        "\n",
        "import matplotlib.pyplot as plt\n",
        "import numpy as np\n",
        "import PIL\n",
        "import torch\n",
        "import torch.nn as nn\n",
        "import torch.optim as optim\n",
        "import torchvision.datasets as dset\n",
        "from torch.utils.data.sampler import SubsetRandomSampler, SequentialSampler\n",
        "\n",
        "from torchvision import transforms"
      ],
      "execution_count": null,
      "outputs": []
    },
    {
      "cell_type": "code",
      "metadata": {
        "id": "NNU-OD9O9ltP"
      },
      "source": [
        "device = torch.device(\"cuda:0\") # Let's make sure GPU is available!"
      ],
      "execution_count": null,
      "outputs": []
    },
    {
      "cell_type": "markdown",
      "metadata": {
        "id": "EhiiwaCATNqR"
      },
      "source": [
        "# Загружаем данные"
      ]
    },
    {
      "cell_type": "code",
      "metadata": {
        "id": "YAvkoRx-9FsP"
      },
      "source": [
        "# First, lets load the dataset\n",
        "data_train = dset.SVHN('./', \n",
        "                       transform=transforms.Compose([\n",
        "                           transforms.ToTensor(),\n",
        "                           transforms.Normalize(mean=[0.43,0.44,0.47],\n",
        "                                               std=[0.20,0.20,0.20])                           \n",
        "                       ])\n",
        "                      )\n",
        "data_test = dset.SVHN('./', split='test', transform=transforms.Compose([\n",
        "                           transforms.ToTensor(),\n",
        "                           transforms.Normalize(mean=[0.43,0.44,0.47],\n",
        "                                               std=[0.20,0.20,0.20])                           \n",
        "                       ]))"
      ],
      "execution_count": null,
      "outputs": []
    },
    {
      "cell_type": "markdown",
      "metadata": {
        "id": "gm0tNzi1TNqS"
      },
      "source": [
        "Разделяем данные на training и validation.\n",
        "\n",
        "На всякий случай для подробностей - https://pytorch.org/tutorials/beginner/data_loading_tutorial.html"
      ]
    },
    {
      "cell_type": "code",
      "metadata": {
        "id": "YRnr8CPg7Hli"
      },
      "source": [
        "batch_size = 64\n",
        "\n",
        "data_size = data_train.data.shape[0]\n",
        "validation_split = .2\n",
        "split = int(np.floor(validation_split * data_size))\n",
        "indices = list(range(data_size))\n",
        "np.random.shuffle(indices)\n",
        "\n",
        "train_indices, val_indices = indices[split:], indices[:split]\n",
        "\n",
        "train_sampler = SubsetRandomSampler(train_indices)\n",
        "val_sampler = SubsetRandomSampler(val_indices)\n",
        "\n",
        "train_loader = torch.utils.data.DataLoader(data_train, batch_size=batch_size, \n",
        "                                           sampler=train_sampler)\n",
        "val_loader = torch.utils.data.DataLoader(data_train, batch_size=batch_size,\n",
        "                                         sampler=val_sampler)"
      ],
      "execution_count": null,
      "outputs": []
    },
    {
      "cell_type": "code",
      "metadata": {
        "id": "LyYvt-T67PBG"
      },
      "source": [
        "# We'll use a special helper module to shape it into a flat tensor\n",
        "class Flattener(nn.Module):\n",
        "    def forward(self, x):\n",
        "        batch_size, *_ = x.shape\n",
        "        return x.view(batch_size, -1)"
      ],
      "execution_count": null,
      "outputs": []
    },
    {
      "cell_type": "markdown",
      "metadata": {
        "id": "nJ-FyzKfTNqS"
      },
      "source": [
        "Создадим простейшую сеть с новыми слоями:  \n",
        "Convolutional - `nn.Conv2d`  \n",
        "MaxPool - `nn.MaxPool2d`"
      ]
    },
    {
      "cell_type": "code",
      "metadata": {
        "id": "w9SFVGZP7SQd"
      },
      "source": [
        "nn_model = nn.Sequential(\n",
        "            nn.Conv2d(3, 64, 3, padding=1),\n",
        "            nn.ReLU(inplace=True),\n",
        "            nn.MaxPool2d(4),\n",
        "            nn.Conv2d(64, 64, 3, padding=1),\n",
        "            nn.ReLU(inplace=True),\n",
        "            nn.MaxPool2d(4),    \n",
        "            Flattener(),\n",
        "            nn.Linear(64*2*2, 10),\n",
        "          )\n",
        "\n",
        "nn_model.type(torch.cuda.FloatTensor)\n",
        "nn_model.to(device)\n",
        "\n",
        "loss = nn.CrossEntropyLoss().type(torch.cuda.FloatTensor)\n",
        "optimizer = optim.SGD(nn_model.parameters(), lr=1e-1, weight_decay=1e-4)"
      ],
      "execution_count": null,
      "outputs": []
    },
    {
      "cell_type": "markdown",
      "metadata": {
        "id": "W2VgLYHGTNqV"
      },
      "source": [
        "Восстановите функцию `compute_accuracy` из прошлого задания.  \n",
        "Единственное отличие в новом - она должна передать данные на GPU прежде чем прогонять через модель. Сделайте это так же, как это делает функция `train_model`"
      ]
    },
    {
      "cell_type": "code",
      "metadata": {
        "colab": {
          "base_uri": "https://localhost:8080/"
        },
        "id": "2ek3KVQK7hJ6",
        "outputId": "b737aaa0-2849-430f-8775-720653499511"
      },
      "source": [
        "def train_model(model, train_loader, val_loader, loss, optimizer, num_epochs):    \n",
        "    loss_history = []\n",
        "    train_history = []\n",
        "    val_history = []\n",
        "    for epoch in range(num_epochs):\n",
        "        model.train() # Enter train mode\n",
        "        \n",
        "        loss_accum = 0\n",
        "        correct_samples = 0\n",
        "        total_samples = 0\n",
        "        for i_step, (x, y) in enumerate(train_loader):\n",
        "          \n",
        "            x_gpu = x.to(device)\n",
        "            y_gpu = y.to(device)\n",
        "            prediction = model(x_gpu)    \n",
        "            loss_value = loss(prediction, y_gpu)\n",
        "            optimizer.zero_grad()\n",
        "            loss_value.backward()\n",
        "            optimizer.step()\n",
        "            \n",
        "            _, indices = torch.max(prediction, 1)\n",
        "            correct_samples += torch.sum(indices == y_gpu)\n",
        "            total_samples += y.shape[0]\n",
        "            \n",
        "            loss_accum += loss_value\n",
        "\n",
        "        ave_loss = loss_accum / i_step\n",
        "        train_accuracy = float(correct_samples) / total_samples\n",
        "        val_accuracy = compute_accuracy(model, val_loader)\n",
        "        \n",
        "        loss_history.append(float(ave_loss))\n",
        "        train_history.append(train_accuracy)\n",
        "        val_history.append(val_accuracy)\n",
        "        \n",
        "        print(\"Average loss: %f, Train accuracy: %f, Val accuracy: %f\" % (ave_loss, train_accuracy, val_accuracy))\n",
        "        \n",
        "    return loss_history, train_history, val_history\n",
        "        \n",
        "def compute_accuracy(model, loader):\n",
        "    \"\"\"\n",
        "    Computes accuracy on the dataset wrapped in a loader\n",
        "    \n",
        "    Returns: accuracy as a float value between 0 and 1\n",
        "    \"\"\"\n",
        "    model.eval() # Evaluation mode\n",
        "    # TODO: Copy implementation from previous assignment\n",
        "    # Don't forget to move the data to device before running it through the model!\n",
        "    \n",
        "    correct_samples = 0\n",
        "    total_samples = 0\n",
        "    \n",
        "    for i_step, (x, y) in enumerate(loader):\n",
        "\n",
        "        x_gpu = x.to(device)\n",
        "        y_gpu = y.to(device)\n",
        "        output = model(x_gpu)\n",
        "        prediction = torch.argmax(output, dim=1)\n",
        "        correct_samples += torch.sum(prediction == y_gpu)\n",
        "        total_samples += y.shape[0]\n",
        "    accuracy = float(correct_samples) / total_samples\n",
        "    \n",
        "    return accuracy\n",
        "\n",
        "np.random.seed(42)\n",
        "loss_history, train_history, val_history = train_model(nn_model, train_loader, val_loader, loss, optimizer, 5)"
      ],
      "execution_count": null,
      "outputs": [
        {
          "output_type": "stream",
          "text": [
            "Average loss: 0.482803, Train accuracy: 0.856039, Val accuracy: 0.835506\n",
            "Average loss: 0.468662, Train accuracy: 0.860304, Val accuracy: 0.837827\n",
            "Average loss: 0.450059, Train accuracy: 0.865475, Val accuracy: 0.854344\n",
            "Average loss: 0.436726, Train accuracy: 0.870713, Val accuracy: 0.853184\n",
            "Average loss: 0.420010, Train accuracy: 0.873972, Val accuracy: 0.856733\n"
          ],
          "name": "stdout"
        }
      ]
    },
    {
      "cell_type": "markdown",
      "metadata": {
        "id": "6a-3a1ZFGEw_"
      },
      "source": [
        "# Аугментация данных (Data augmentation)\n",
        "\n",
        "В работе с изображениями одним из особенно важных методов является аугментация данных - то есть, генерация дополнительных данных для тренировки на основе изначальных.   \n",
        "Таким образом, мы получаем возможность \"увеличить\" набор данных для тренировки, что ведет к лучшей работе сети.\n",
        "Важно, чтобы аугментированные данные были похожи на те, которые могут встретиться в реальной жизни, иначе польза от аугментаций уменьшается и может ухудшить работу сети.\n",
        "\n",
        "С PyTorch идут несколько таких алгоритмов, называемых `transforms`. Более подробно про них можно прочитать тут -\n",
        "https://pytorch.org/tutorials/beginner/data_loading_tutorial.html#transforms\n",
        "\n",
        "Ниже мы используем следующие алгоритмы генерации:\n",
        "- ColorJitter - случайное изменение цвета\n",
        "- RandomHorizontalFlip - горизонтальное отражение с вероятностью 50%\n",
        "- RandomVerticalFlip - вертикальное отражение с вероятностью 50%\n",
        "- RandomRotation - случайный поворот"
      ]
    },
    {
      "cell_type": "code",
      "metadata": {
        "id": "jCWMUWmr7t5g"
      },
      "source": [
        "tfs = transforms.Compose([\n",
        "    transforms.ColorJitter(hue=.50, saturation=.50),\n",
        "    transforms.RandomHorizontalFlip(),\n",
        "    transforms.RandomVerticalFlip(),\n",
        "    transforms.RandomRotation(50, resample=PIL.Image.BILINEAR),\n",
        "    transforms.ToTensor(),\n",
        "    transforms.Normalize(mean=[0.43,0.44,0.47],\n",
        "                       std=[0.20,0.20,0.20])                           \n",
        "])\n",
        "\n",
        "# Create augmented train dataset\n",
        "data_aug_train = dset.SVHN('./', \n",
        "                       transform=tfs\n",
        "                      )\n",
        "\n",
        "train_aug_loader = torch.utils.data.DataLoader(data_aug_train, batch_size=batch_size, \n",
        "                                           sampler=train_sampler)"
      ],
      "execution_count": null,
      "outputs": []
    },
    {
      "cell_type": "markdown",
      "metadata": {
        "id": "5om_nz50TNqV"
      },
      "source": [
        "Визуализируем результаты агментации (вообще, смотреть на сгенерированные данные всегда очень полезно)."
      ]
    },
    {
      "cell_type": "code",
      "metadata": {
        "colab": {
          "base_uri": "https://localhost:8080/",
          "height": 173
        },
        "id": "YlJJEro1KZ45",
        "outputId": "2b62fb24-06b0-418d-eab8-23a4afae3f6d"
      },
      "source": [
        "# TODO: Visualize some augmented images!\n",
        "# hint: you can create new datasets and loaders to accomplish this\n",
        "\n",
        "# Based on the visualizations, should we keep all the augmentations?\n",
        "np.random.seed(42)\n",
        "\n",
        "tfs = transforms.Compose([\n",
        "    transforms.ColorJitter(hue=.20, saturation=.20),\n",
        "    #transforms.RandomHorizontalFlip(),\n",
        "    #transforms.RandomVerticalFlip(),\n",
        "    transforms.RandomRotation(10, resample=PIL.Image.BILINEAR),\n",
        "])\n",
        "\n",
        "data_aug_vis = dset.SVHN('./', \n",
        "                       transform=tfs\n",
        "                      )\n",
        "\n",
        "plt.figure(figsize=(30, 3))\n",
        "\n",
        "for i, (x, y) in enumerate(data_aug_vis):\n",
        "    if i == 10:\n",
        "        break\n",
        "    plt.subplot(1, 10, i+1)\n",
        "    plt.grid(False)\n",
        "    plt.imshow(x)\n",
        "    plt.axis('off')"
      ],
      "execution_count": null,
      "outputs": [
        {
          "output_type": "display_data",
          "data": {
            "image/png": "[encoded data removed]",
            "text/plain": [
              "<Figure size 2160x216 with 10 Axes>"
            ]
          },
          "metadata": {
            "tags": [],
            "needs_background": "light"
          }
        }
      ]
    },
    {
      "cell_type": "markdown",
      "metadata": {
        "id": "o2LrmsYHoguB"
      },
      "source": [
        "Все ли агментации одинаково полезны на этом наборе данных? Могут ли быть среди них те, которые собьют модель с толку?\n",
        "\n",
        "Выберите из них только корректные"
      ]
    },
    {
      "cell_type": "code",
      "metadata": {
        "id": "evro9ksXGs9u"
      },
      "source": [
        "# TODO: \n",
        "tfs = transforms.Compose([\n",
        "    # TODO: Add good augmentations\n",
        "    transforms.ToTensor(),\n",
        "    transforms.Normalize(mean=[0.43,0.44,0.47],\n",
        "                       std=[0.20,0.20,0.20]),\n",
        "    #transforms.ColorJitter(hue=.20, saturation=.20),\n",
        "    transforms.RandomRotation(10, resample=PIL.Image.BILINEAR)\n",
        "])\n",
        "\n",
        "# TODO create new instances of loaders with the augmentations you chose\n",
        "data_aug_train = dset.SVHN('./', \n",
        "                       transform=tfs\n",
        "                      )\n",
        "\n",
        "train_aug_loader = torch.utils.data.DataLoader(data_aug_train, batch_size=batch_size, \n",
        "                                               sampler=train_sampler)"
      ],
      "execution_count": null,
      "outputs": []
    },
    {
      "cell_type": "code",
      "metadata": {
        "colab": {
          "base_uri": "https://localhost:8080/"
        },
        "id": "PeO6Zw0DHqPR",
        "outputId": "67c79f7f-6dbc-4a15-c44e-117bee10dd79"
      },
      "source": [
        "# Finally, let's train with augmentations!\n",
        "\n",
        "# Note we shouldn't use augmentations on validation\n",
        "\n",
        "np.random.seed(42)\n",
        "loss_history, train_history, val_history = train_model(nn_model, train_aug_loader, val_loader, loss, optimizer, 5)"
      ],
      "execution_count": null,
      "outputs": [
        {
          "output_type": "stream",
          "text": [
            "Average loss: 0.555298, Train accuracy: 0.831724, Val accuracy: 0.838578\n",
            "Average loss: 0.524514, Train accuracy: 0.840801, Val accuracy: 0.847109\n",
            "Average loss: 0.502165, Train accuracy: 0.848309, Val accuracy: 0.850181\n",
            "Average loss: 0.493700, Train accuracy: 0.852353, Val accuracy: 0.854208\n",
            "Average loss: 0.475446, Train accuracy: 0.858154, Val accuracy: 0.844789\n"
          ],
          "name": "stdout"
        }
      ]
    },
    {
      "cell_type": "markdown",
      "metadata": {
        "id": "r0bcioK6JBDK"
      },
      "source": [
        "# LeNet\n",
        "Попробуем имплементировать классическую архитектуру сверточной нейронной сети, предложенную Яном ЛеКуном в 1998 году. В свое время она достигла впечатляющих результатов на MNIST, посмотрим как она справится с SVHN?\n",
        "Она описана в статье [\"Gradient Based Learning Applied to Document Recognition\"](http://yann.lecun.com/exdb/publis/pdf/lecun-01a.pdf), попробуйте прочитать ключевые части и имплементировать предложенную архитетуру на PyTorch.\n",
        "\n",
        "Реализовывать слои и функцию ошибки LeNet, которых нет в PyTorch, **не нужно** - просто возьмите их размеры и переведите в уже известные нам Convolutional, Pooling и Fully Connected layers.\n",
        "\n",
        "Если в статье не очень понятно, можно просто погуглить LeNet и разобраться в деталях :)"
      ]
    },
    {
      "cell_type": "code",
      "metadata": {
        "id": "ieEzZUglJAUB"
      },
      "source": [
        "# TODO: Implement LeNet-like architecture for SVHN task\n",
        "lenet_model = nn.Sequential(\n",
        "            nn.Conv2d(3, 6, 5, padding=0),\n",
        "            nn.ReLU(inplace=True),\n",
        "            nn.MaxPool2d(2),\n",
        "            nn.Conv2d(6, 16, 5, padding=0),\n",
        "            nn.ReLU(inplace=True),\n",
        "            nn.MaxPool2d(2),    \n",
        "            Flattener(),\n",
        "            nn.Linear(16*5*5, 120),\n",
        "            nn.ReLU(inplace=True),\n",
        "            nn.Linear(120, 84),\n",
        "            nn.ReLU(inplace=True),\n",
        "            nn.Linear(84, 10)\n",
        "          )\n",
        "\n",
        "lenet_model.type(torch.cuda.FloatTensor)\n",
        "lenet_model.to(device)\n",
        "\n",
        "loss = nn.CrossEntropyLoss().type(torch.cuda.FloatTensor)\n",
        "optimizer = optim.SGD(lenet_model.parameters(), lr=1e-1, weight_decay=1e-4)"
      ],
      "execution_count": null,
      "outputs": []
    },
    {
      "cell_type": "code",
      "metadata": {
        "colab": {
          "base_uri": "https://localhost:8080/"
        },
        "id": "WMmaPfdeKk9H",
        "outputId": "9af93388-3cad-401b-9082-6ec91ada82e2"
      },
      "source": [
        "# Let's train it!\n",
        "np.random.seed(42)\n",
        "loss_history, train_history, val_history = train_model(lenet_model, train_aug_loader, val_loader, loss, optimizer, 10)"
      ],
      "execution_count": null,
      "outputs": [
        {
          "output_type": "stream",
          "text": [
            "Average loss: 1.037707, Train accuracy: 0.670546, Val accuracy: 0.825950\n",
            "Average loss: 0.616295, Train accuracy: 0.820530, Val accuracy: 0.839260\n",
            "Average loss: 0.563899, Train accuracy: 0.835239, Val accuracy: 0.842195\n",
            "Average loss: 0.529901, Train accuracy: 0.843190, Val accuracy: 0.815439\n",
            "Average loss: 0.516814, Train accuracy: 0.849418, Val accuracy: 0.844652\n",
            "Average loss: 0.499085, Train accuracy: 0.852507, Val accuracy: 0.867381\n",
            "Average loss: 0.489913, Train accuracy: 0.856005, Val accuracy: 0.863286\n",
            "Average loss: 0.479979, Train accuracy: 0.858257, Val accuracy: 0.869497\n",
            "Average loss: 0.472493, Train accuracy: 0.860492, Val accuracy: 0.863900\n",
            "Average loss: 0.469460, Train accuracy: 0.860577, Val accuracy: 0.863627\n"
          ],
          "name": "stdout"
        }
      ]
    },
    {
      "cell_type": "markdown",
      "metadata": {
        "id": "u_O9qiYySvuj"
      },
      "source": [
        "# Подбор гиперпараметров"
      ]
    },
    {
      "cell_type": "code",
      "metadata": {
        "id": "K8olKmQgu3FG"
      },
      "source": [
        "def train_model_scheduled(model, train_loader, val_loader, loss, optimizer, scheduler, num_epochs):    \n",
        "    loss_history = []\n",
        "    train_history = []\n",
        "    val_history = []\n",
        "    for epoch in range(num_epochs):\n",
        "        model.train() # Enter train mode\n",
        "        \n",
        "        loss_accum = 0\n",
        "        correct_samples = 0\n",
        "        total_samples = 0\n",
        "        for i_step, (x, y) in enumerate(train_loader):\n",
        "          \n",
        "            x_gpu = x.to(device)\n",
        "            y_gpu = y.to(device)\n",
        "            prediction = model(x_gpu)    \n",
        "            loss_value = loss(prediction, y_gpu)\n",
        "            optimizer.zero_grad()\n",
        "            loss_value.backward()\n",
        "            optimizer.step()\n",
        "            \n",
        "            _, indices = torch.max(prediction, 1)\n",
        "            correct_samples += torch.sum(indices == y_gpu)\n",
        "            total_samples += y.shape[0]\n",
        "            \n",
        "            loss_accum += loss_value\n",
        "        \n",
        "        if scheduler is not None:\n",
        "            scheduler.step()\n",
        "\n",
        "        ave_loss = loss_accum / i_step\n",
        "        train_accuracy = float(correct_samples) / total_samples\n",
        "        val_accuracy = compute_accuracy(model, val_loader)\n",
        "        \n",
        "        loss_history.append(float(ave_loss))\n",
        "        train_history.append(train_accuracy)\n",
        "        val_history.append(val_accuracy)\n",
        "        \n",
        "        print(\"Average loss: %f, Train accuracy: %f, Val accuracy: %f\" % (ave_loss, train_accuracy, val_accuracy))\n",
        "        \n",
        "    return loss_history, train_history, val_history"
      ],
      "execution_count": null,
      "outputs": []
    },
    {
      "cell_type": "code",
      "metadata": {
        "id": "i6mhfdQ9K-N3",
        "colab": {
          "base_uri": "https://localhost:8080/",
          "height": 1000
        },
        "outputId": "70059531-4cf2-4373-cbe4-78e9de441bf0"
      },
      "source": [
        "np.random.seed(42)\n",
        "# The key hyperparameters we're going to tune are learning speed, annealing rate and regularization\n",
        "# We also encourage you to try different optimizers as well\n",
        "\n",
        "Hyperparams = namedtuple(\"Hyperparams\", ['learning_rate', 'anneal_epochs', 'reg'])\n",
        "RunResult = namedtuple(\"RunResult\", ['model', 'train_history', 'val_history', 'final_val_accuracy'])\n",
        "\n",
        "learning_rates = [1e-1, 1e-2, 1e-3, 1e-4]\n",
        "anneal_coeff = 0.2\n",
        "anneal_epochs = [1, 3, 5]\n",
        "reg = [1e-3, 1e-4, 1e-5, 1e-7]\n",
        "\n",
        "batch_size = 64\n",
        "epoch_num = 10\n",
        "\n",
        "# Record all the runs here\n",
        "# Key should be Hyperparams and values should be RunResult\n",
        "run_record = {} \n",
        "\n",
        "# Use grid search or random search and record all runs in run_record dictionary \n",
        "# Important: perform search in logarithmic space!\n",
        "\n",
        "# load data\n",
        "data_train = dset.SVHN('./', \n",
        "                       transform=transforms.Compose([\n",
        "                           transforms.ToTensor(),\n",
        "                           transforms.Normalize(mean=[0.43,0.44,0.47],\n",
        "                                               std=[0.20,0.20,0.20])                           \n",
        "                       ])\n",
        "                      )\n",
        "data_test = dset.SVHN('./', split='test', transform=transforms.Compose([\n",
        "                           transforms.ToTensor(),\n",
        "                           transforms.Normalize(mean=[0.43,0.44,0.47],\n",
        "                                               std=[0.20,0.20,0.20])                           \n",
        "                       ]))\n",
        "\n",
        "# make datasets and loaders\n",
        "data_size = data_train.data.shape[0]\n",
        "validation_split = .2\n",
        "split = int(np.floor(validation_split * data_size))\n",
        "indices = list(range(data_size))\n",
        "np.random.shuffle(indices)\n",
        "\n",
        "train_indices, val_indices = indices[split:], indices[:split]\n",
        "\n",
        "train_sampler = SubsetRandomSampler(train_indices)\n",
        "val_sampler = SubsetRandomSampler(val_indices)\n",
        "\n",
        "val_loader = torch.utils.data.DataLoader(data_train, batch_size=batch_size,\n",
        "                                         sampler=val_sampler)\n",
        "\n",
        "# apply augmentations\n",
        "tfs = transforms.Compose([\n",
        "    transforms.ToTensor(),\n",
        "    transforms.Normalize(mean=[0.43,0.44,0.47],\n",
        "                       std=[0.20,0.20,0.20]),\n",
        "    #transforms.ColorJitter(hue=.20, saturation=.20),\n",
        "    transforms.RandomRotation(10, resample=PIL.Image.BILINEAR)\n",
        "])\n",
        "\n",
        "data_aug_train = dset.SVHN('./', \n",
        "                       transform=tfs\n",
        "                      )\n",
        "\n",
        "train_aug_loader = torch.utils.data.DataLoader(data_aug_train, batch_size=batch_size, \n",
        "                                               sampler=train_sampler)\n",
        "\n",
        "# perform grid search of hyperparameters\n",
        "for hparam_values in product(learning_rates, anneal_epochs, reg):\n",
        "    hparams = Hyperparams(*hparam_values)\n",
        "    print(hparams)\n",
        "\n",
        "    lenet_model = nn.Sequential(\n",
        "            nn.Conv2d(3, 6, 5, padding=0),\n",
        "            nn.ReLU(inplace=True),\n",
        "            nn.MaxPool2d(2),\n",
        "            nn.Conv2d(6, 16, 5, padding=0),\n",
        "            nn.ReLU(inplace=True),\n",
        "            nn.MaxPool2d(2),    \n",
        "            Flattener(),\n",
        "            nn.Linear(16*5*5, 120),\n",
        "            nn.ReLU(inplace=True),\n",
        "            nn.Linear(120, 84),\n",
        "            nn.ReLU(inplace=True),\n",
        "            nn.Linear(84, 10)\n",
        "          )\n",
        "\n",
        "    lenet_model.type(torch.cuda.FloatTensor)\n",
        "    lenet_model.to(device)\n",
        "\n",
        "    loss = nn.CrossEntropyLoss().type(torch.cuda.FloatTensor)\n",
        "    optimizer = optim.SGD(lenet_model.parameters(), lr=hparams.learning_rate, weight_decay=hparams.reg)\n",
        "    scheduler = optim.lr_scheduler.StepLR(optimizer, step_size=hparams.anneal_epochs, gamma=anneal_coeff, last_epoch=-1, verbose=False)\n",
        "    loss_history, train_history, val_history = train_model_scheduled(lenet_model, train_aug_loader, val_loader, loss, optimizer, scheduler, epoch_num)\n",
        "\n",
        "    final_val_accuracy = compute_accuracy(lenet_model, val_loader)\n",
        "    result = RunResult(lenet_model, train_history, val_history, final_val_accuracy)\n",
        "\n",
        "    run_record[hparams] = result"
      ],
      "execution_count": null,
      "outputs": [
        {
          "output_type": "stream",
          "text": [
            "Hyperparams(learning_rate=0.1, anneal_epochs=1, reg=0.001)\n",
            "Average loss: 1.186463, Train accuracy: 0.613708, Val accuracy: 0.801037\n",
            "Average loss: 0.561801, Train accuracy: 0.841279, Val accuracy: 0.855505\n",
            "Average loss: 0.515351, Train accuracy: 0.855305, Val accuracy: 0.861989\n",
            "Average loss: 0.505309, Train accuracy: 0.858086, Val accuracy: 0.864037\n",
            "Average loss: 0.505341, Train accuracy: 0.858581, Val accuracy: 0.863695\n",
            "Average loss: 0.503367, Train accuracy: 0.858615, Val accuracy: 0.863149\n",
            "Average loss: 0.503583, Train accuracy: 0.857967, Val accuracy: 0.863149\n",
            "Average loss: 0.505986, Train accuracy: 0.857404, Val accuracy: 0.863149\n",
            "Average loss: 0.504194, Train accuracy: 0.858752, Val accuracy: 0.863149\n",
            "Average loss: 0.503297, Train accuracy: 0.858854, Val accuracy: 0.863149\n",
            "Hyperparams(learning_rate=0.1, anneal_epochs=1, reg=0.0001)\n",
            "Average loss: 1.161477, Train accuracy: 0.623008, Val accuracy: 0.805201\n",
            "Average loss: 0.573142, Train accuracy: 0.837662, Val accuracy: 0.855436\n",
            "Average loss: 0.531291, Train accuracy: 0.850920, Val accuracy: 0.862671\n",
            "Average loss: 0.518603, Train accuracy: 0.854452, Val accuracy: 0.863286\n",
            "Average loss: 0.519394, Train accuracy: 0.853940, Val accuracy: 0.862876\n",
            "Average loss: 0.518174, Train accuracy: 0.854588, Val accuracy: 0.863149\n",
            "Average loss: 0.519421, Train accuracy: 0.854503, Val accuracy: 0.863149\n",
            "Average loss: 0.519698, Train accuracy: 0.854639, Val accuracy: 0.863149\n",
            "Average loss: 0.520690, Train accuracy: 0.853650, Val accuracy: 0.863149\n",
            "Average loss: 0.519845, Train accuracy: 0.854742, Val accuracy: 0.863149\n",
            "Hyperparams(learning_rate=0.1, anneal_epochs=1, reg=1e-05)\n",
            "Average loss: 1.205803, Train accuracy: 0.605996, Val accuracy: 0.807726\n",
            "Average loss: 0.571677, Train accuracy: 0.840153, Val accuracy: 0.856802\n",
            "Average loss: 0.530369, Train accuracy: 0.853240, Val accuracy: 0.859259\n",
            "Average loss: 0.521729, Train accuracy: 0.854145, Val accuracy: 0.861033\n",
            "Average loss: 0.515423, Train accuracy: 0.856073, Val accuracy: 0.860692\n",
            "Average loss: 0.518701, Train accuracy: 0.855868, Val accuracy: 0.860965\n",
            "Average loss: 0.518733, Train accuracy: 0.855424, Val accuracy: 0.861033\n",
            "Average loss: 0.519093, Train accuracy: 0.855066, Val accuracy: 0.861033\n",
            "Average loss: 0.520020, Train accuracy: 0.855254, Val accuracy: 0.861033\n",
            "Average loss: 0.517717, Train accuracy: 0.855134, Val accuracy: 0.861033\n",
            "Hyperparams(learning_rate=0.1, anneal_epochs=1, reg=1e-07)\n",
            "Average loss: 1.093801, Train accuracy: 0.650189, Val accuracy: 0.820012\n",
            "Average loss: 0.549445, Train accuracy: 0.847439, Val accuracy: 0.858849\n",
            "Average loss: 0.510134, Train accuracy: 0.857506, Val accuracy: 0.866972\n",
            "Average loss: 0.500518, Train accuracy: 0.861140, Val accuracy: 0.866972\n",
            "Average loss: 0.495636, Train accuracy: 0.862096, Val accuracy: 0.868337\n",
            "Average loss: 0.496568, Train accuracy: 0.862676, Val accuracy: 0.868132\n",
            "Average loss: 0.495318, Train accuracy: 0.862352, Val accuracy: 0.868064\n",
            "Average loss: 0.498426, Train accuracy: 0.860833, Val accuracy: 0.868132\n",
            "Average loss: 0.496519, Train accuracy: 0.862557, Val accuracy: 0.868132\n",
            "Average loss: 0.496276, Train accuracy: 0.861994, Val accuracy: 0.868132\n",
            "Hyperparams(learning_rate=0.1, anneal_epochs=3, reg=0.001)\n",
            "Average loss: 1.187421, Train accuracy: 0.614476, Val accuracy: 0.802266\n",
            "Average loss: 0.651785, Train accuracy: 0.809593, Val accuracy: 0.827657\n",
            "Average loss: 0.602763, Train accuracy: 0.825683, Val accuracy: 0.829090\n",
            "Average loss: 0.496081, Train accuracy: 0.860236, Val accuracy: 0.870453\n",
            "Average loss: 0.481993, Train accuracy: 0.864690, Val accuracy: 0.870111\n",
            "Average loss: 0.475147, Train accuracy: 0.865509, Val accuracy: 0.869497\n",
            "Average loss: 0.455571, Train accuracy: 0.872283, Val accuracy: 0.874548\n",
            "Average loss: 0.451180, Train accuracy: 0.873443, Val accuracy: 0.874480\n",
            "Average loss: 0.450542, Train accuracy: 0.873170, Val accuracy: 0.876868\n",
            "Average loss: 0.447287, Train accuracy: 0.873597, Val accuracy: 0.876868\n",
            "Hyperparams(learning_rate=0.1, anneal_epochs=3, reg=0.0001)\n",
            "Average loss: 1.137301, Train accuracy: 0.635856, Val accuracy: 0.803290\n",
            "Average loss: 0.642835, Train accuracy: 0.815155, Val accuracy: 0.837759\n",
            "Average loss: 0.585397, Train accuracy: 0.832167, Val accuracy: 0.838373\n",
            "Average loss: 0.474905, Train accuracy: 0.865082, Val accuracy: 0.871545\n",
            "Average loss: 0.459466, Train accuracy: 0.868870, Val accuracy: 0.873456\n",
            "Average loss: 0.451371, Train accuracy: 0.871668, Val accuracy: 0.875845\n",
            "Average loss: 0.429920, Train accuracy: 0.878494, Val accuracy: 0.877824\n",
            "Average loss: 0.426406, Train accuracy: 0.878733, Val accuracy: 0.879053\n",
            "Average loss: 0.426630, Train accuracy: 0.879432, Val accuracy: 0.878711\n",
            "Average loss: 0.422603, Train accuracy: 0.880661, Val accuracy: 0.879326\n",
            "Hyperparams(learning_rate=0.1, anneal_epochs=3, reg=1e-05)\n",
            "Average loss: 1.052736, Train accuracy: 0.664437, Val accuracy: 0.817896\n",
            "Average loss: 0.638267, Train accuracy: 0.810924, Val accuracy: 0.840762\n",
            "Average loss: 0.584629, Train accuracy: 0.827577, Val accuracy: 0.846632\n",
            "Average loss: 0.473056, Train accuracy: 0.861328, Val accuracy: 0.871408\n",
            "Average loss: 0.457609, Train accuracy: 0.867283, Val accuracy: 0.873251\n",
            "Average loss: 0.450102, Train accuracy: 0.868921, Val accuracy: 0.873183\n",
            "Average loss: 0.430888, Train accuracy: 0.873784, Val accuracy: 0.875640\n",
            "Average loss: 0.428005, Train accuracy: 0.875559, Val accuracy: 0.877619\n",
            "Average loss: 0.426806, Train accuracy: 0.875985, Val accuracy: 0.876732\n",
            "Average loss: 0.421486, Train accuracy: 0.876941, Val accuracy: 0.877824\n",
            "Hyperparams(learning_rate=0.1, anneal_epochs=3, reg=1e-07)\n",
            "Average loss: 1.141404, Train accuracy: 0.631028, Val accuracy: 0.830114\n",
            "Average loss: 0.633215, Train accuracy: 0.818926, Val accuracy: 0.844516\n",
            "Average loss: 0.575225, Train accuracy: 0.832662, Val accuracy: 0.846495\n",
            "Average loss: 0.474128, Train accuracy: 0.865389, Val accuracy: 0.872364\n",
            "Average loss: 0.453731, Train accuracy: 0.869194, Val accuracy: 0.871818\n",
            "Average loss: 0.445763, Train accuracy: 0.872914, Val accuracy: 0.871067\n",
            "Average loss: 0.428424, Train accuracy: 0.876804, Val accuracy: 0.875435\n",
            "Average loss: 0.425308, Train accuracy: 0.878408, Val accuracy: 0.876118\n",
            "Average loss: 0.422426, Train accuracy: 0.877658, Val accuracy: 0.875640\n",
            "Average loss: 0.419305, Train accuracy: 0.880951, Val accuracy: 0.876186\n",
            "Hyperparams(learning_rate=0.1, anneal_epochs=5, reg=0.001)\n",
            "Average loss: 1.093931, Train accuracy: 0.646913, Val accuracy: 0.790253\n",
            "Average loss: 0.624386, Train accuracy: 0.815582, Val accuracy: 0.842468\n",
            "Average loss: 0.574199, Train accuracy: 0.832099, Val accuracy: 0.846427\n",
            "Average loss: 0.545143, Train accuracy: 0.837713, Val accuracy: 0.817623\n",
            "Average loss: 0.533307, Train accuracy: 0.843088, Val accuracy: 0.844584\n",
            "Average loss: 0.439800, Train accuracy: 0.871617, Val accuracy: 0.879872\n",
            "Average loss: 0.429118, Train accuracy: 0.874672, Val accuracy: 0.880281\n",
            "Average loss: 0.423244, Train accuracy: 0.875149, Val accuracy: 0.879872\n",
            "Average loss: 0.423001, Train accuracy: 0.876770, Val accuracy: 0.882261\n",
            "Average loss: 0.417210, Train accuracy: 0.878084, Val accuracy: 0.882738\n",
            "Hyperparams(learning_rate=0.1, anneal_epochs=5, reg=0.0001)\n",
            "Average loss: 1.186268, Train accuracy: 0.615876, Val accuracy: 0.818033\n",
            "Average loss: 0.666801, Train accuracy: 0.807323, Val accuracy: 0.829158\n",
            "Average loss: 0.611945, Train accuracy: 0.823960, Val accuracy: 0.845813\n",
            "Average loss: 0.589794, Train accuracy: 0.830495, Val accuracy: 0.795441\n",
            "Average loss: 0.563001, Train accuracy: 0.837696, Val accuracy: 0.856051\n",
            "Average loss: 0.475002, Train accuracy: 0.863325, Val accuracy: 0.870180\n",
            "Average loss: 0.457859, Train accuracy: 0.869536, Val accuracy: 0.869497\n",
            "Average loss: 0.453487, Train accuracy: 0.870303, Val accuracy: 0.868678\n",
            "Average loss: 0.450837, Train accuracy: 0.871617, Val accuracy: 0.871340\n",
            "Average loss: 0.448505, Train accuracy: 0.871907, Val accuracy: 0.872364\n",
            "Hyperparams(learning_rate=0.1, anneal_epochs=5, reg=1e-05)\n",
            "Average loss: 1.079849, Train accuracy: 0.653158, Val accuracy: 0.802061\n",
            "Average loss: 0.635439, Train accuracy: 0.814285, Val accuracy: 0.843901\n",
            "Average loss: 0.583111, Train accuracy: 0.829625, Val accuracy: 0.803563\n",
            "Average loss: 0.561775, Train accuracy: 0.835324, Val accuracy: 0.849498\n",
            "Average loss: 0.543795, Train accuracy: 0.841364, Val accuracy: 0.816122\n",
            "Average loss: 0.452619, Train accuracy: 0.868887, Val accuracy: 0.872500\n",
            "Average loss: 0.439594, Train accuracy: 0.873835, Val accuracy: 0.874548\n",
            "Average loss: 0.435006, Train accuracy: 0.873801, Val accuracy: 0.876118\n",
            "Average loss: 0.432796, Train accuracy: 0.873255, Val accuracy: 0.876186\n",
            "Average loss: 0.428136, Train accuracy: 0.876839, Val accuracy: 0.874889\n",
            "Hyperparams(learning_rate=0.1, anneal_epochs=5, reg=1e-07)\n",
            "Average loss: 1.112345, Train accuracy: 0.642972, Val accuracy: 0.825336\n",
            "Average loss: 0.634281, Train accuracy: 0.817630, Val accuracy: 0.824927\n",
            "Average loss: 0.577265, Train accuracy: 0.832730, Val accuracy: 0.847997\n",
            "Average loss: 0.546890, Train accuracy: 0.839385, Val accuracy: 0.807999\n",
            "Average loss: 0.524382, Train accuracy: 0.847081, Val accuracy: 0.847519\n",
            "Average loss: 0.435400, Train accuracy: 0.874279, Val accuracy: 0.877688\n",
            "Average loss: 0.422294, Train accuracy: 0.878272, Val accuracy: 0.878711\n",
            "Average loss: 0.418843, Train accuracy: 0.878391, Val accuracy: 0.879940\n",
            "Average loss: 0.417391, Train accuracy: 0.879244, Val accuracy: 0.881032\n",
            "Average loss: 0.410656, Train accuracy: 0.881036, Val accuracy: 0.879189\n",
            "Hyperparams(learning_rate=0.01, anneal_epochs=1, reg=0.001)\n",
            "Average loss: 2.241812, Train accuracy: 0.186773, Val accuracy: 0.195823\n",
            "Average loss: 2.204931, Train accuracy: 0.202334, Val accuracy: 0.229336\n",
            "Average loss: 2.175794, Train accuracy: 0.236034, Val accuracy: 0.255819\n",
            "Average loss: 2.165873, Train accuracy: 0.247432, Val accuracy: 0.260392\n",
            "Average loss: 2.163761, Train accuracy: 0.249616, Val accuracy: 0.261006\n",
            "Average loss: 2.163145, Train accuracy: 0.250589, Val accuracy: 0.261143\n",
            "Average loss: 2.163173, Train accuracy: 0.250930, Val accuracy: 0.261279\n",
            "Average loss: 2.163171, Train accuracy: 0.250469, Val accuracy: 0.261279\n",
            "Average loss: 2.163026, Train accuracy: 0.250537, Val accuracy: 0.261279\n",
            "Average loss: 2.163239, Train accuracy: 0.249872, Val accuracy: 0.261279\n",
            "Hyperparams(learning_rate=0.01, anneal_epochs=1, reg=0.0001)\n",
            "Average loss: 2.244199, Train accuracy: 0.184094, Val accuracy: 0.194321\n",
            "Average loss: 2.221662, Train accuracy: 0.191567, Val accuracy: 0.198758\n",
            "Average loss: 2.213836, Train accuracy: 0.196840, Val accuracy: 0.202444\n",
            "Average loss: 2.211818, Train accuracy: 0.196857, Val accuracy: 0.203945\n",
            "Average loss: 2.211493, Train accuracy: 0.197625, Val accuracy: 0.204286\n",
            "Average loss: 2.211170, Train accuracy: 0.198256, Val accuracy: 0.204423\n",
            "Average loss: 2.211162, Train accuracy: 0.198086, Val accuracy: 0.204423\n",
            "Average loss: 2.211330, Train accuracy: 0.197744, Val accuracy: 0.204423\n",
            "Average loss: 2.211191, Train accuracy: 0.197949, Val accuracy: 0.204423\n",
            "Average loss: 2.211268, Train accuracy: 0.198239, Val accuracy: 0.204423\n",
            "Hyperparams(learning_rate=0.01, anneal_epochs=1, reg=1e-05)\n",
            "Average loss: 2.239028, Train accuracy: 0.187046, Val accuracy: 0.196574\n",
            "Average loss: 2.166499, Train accuracy: 0.214330, Val accuracy: 0.268036\n",
            "Average loss: 2.099061, Train accuracy: 0.274614, Val accuracy: 0.294383\n",
            "Average loss: 2.077626, Train accuracy: 0.289902, Val accuracy: 0.298205\n",
            "Average loss: 2.073174, Train accuracy: 0.291694, Val accuracy: 0.299229\n",
            "Average loss: 2.071980, Train accuracy: 0.294014, Val accuracy: 0.299570\n",
            "Average loss: 2.071760, Train accuracy: 0.292735, Val accuracy: 0.299570\n",
            "Average loss: 2.071649, Train accuracy: 0.293775, Val accuracy: 0.299570\n",
            "Average loss: 2.072032, Train accuracy: 0.293127, Val accuracy: 0.299570\n",
            "Average loss: 2.071780, Train accuracy: 0.293383, Val accuracy: 0.299570\n",
            "Hyperparams(learning_rate=0.01, anneal_epochs=1, reg=1e-07)\n",
            "Average loss: 2.247542, Train accuracy: 0.184691, Val accuracy: 0.194253\n",
            "Average loss: 2.225751, Train accuracy: 0.187950, Val accuracy: 0.194185\n",
            "Average loss: 2.219151, Train accuracy: 0.187984, Val accuracy: 0.194185\n",
            "Average loss: 2.217508, Train accuracy: 0.188001, Val accuracy: 0.194185\n",
            "Average loss: 2.217093, Train accuracy: 0.188087, Val accuracy: 0.194185\n",
            "Average loss: 2.216995, Train accuracy: 0.188104, Val accuracy: 0.194185\n",
            "Average loss: 2.217058, Train accuracy: 0.188052, Val accuracy: 0.194185\n",
            "Average loss: 2.217034, Train accuracy: 0.188104, Val accuracy: 0.194185\n",
            "Average loss: 2.217024, Train accuracy: 0.188069, Val accuracy: 0.194185\n",
            "Average loss: 2.216986, Train accuracy: 0.188052, Val accuracy: 0.194185\n",
            "Hyperparams(learning_rate=0.01, anneal_epochs=3, reg=0.001)\n",
            "Average loss: 2.240399, Train accuracy: 0.185971, Val accuracy: 0.216845\n",
            "Average loss: 1.774766, Train accuracy: 0.401785, Val accuracy: 0.645485\n",
            "Average loss: 0.985641, Train accuracy: 0.704023, Val accuracy: 0.777080\n",
            "Average loss: 0.791113, Train accuracy: 0.769682, Val accuracy: 0.792437\n",
            "Average loss: 0.756675, Train accuracy: 0.780108, Val accuracy: 0.802607\n",
            "Average loss: 0.726780, Train accuracy: 0.790465, Val accuracy: 0.812095\n",
            "Average loss: 0.707264, Train accuracy: 0.797325, Val accuracy: 0.811617\n",
            "Average loss: 0.703831, Train accuracy: 0.798024, Val accuracy: 0.811685\n",
            "Average loss: 0.699879, Train accuracy: 0.799867, Val accuracy: 0.814211\n",
            "Average loss: 0.696881, Train accuracy: 0.800686, Val accuracy: 0.815439\n",
            "Hyperparams(learning_rate=0.01, anneal_epochs=3, reg=0.0001)\n",
            "Average loss: 2.240659, Train accuracy: 0.185766, Val accuracy: 0.194594\n",
            "Average loss: 1.850676, Train accuracy: 0.368188, Val accuracy: 0.579414\n",
            "Average loss: 1.059083, Train accuracy: 0.677456, Val accuracy: 0.771961\n",
            "Average loss: 0.815334, Train accuracy: 0.764393, Val accuracy: 0.788342\n",
            "Average loss: 0.779555, Train accuracy: 0.774153, Val accuracy: 0.795987\n",
            "Average loss: 0.747657, Train accuracy: 0.786063, Val accuracy: 0.804655\n",
            "Average loss: 0.728109, Train accuracy: 0.791591, Val accuracy: 0.806634\n",
            "Average loss: 0.722497, Train accuracy: 0.794202, Val accuracy: 0.808477\n",
            "Average loss: 0.715612, Train accuracy: 0.797120, Val accuracy: 0.809092\n",
            "Average loss: 0.713155, Train accuracy: 0.795806, Val accuracy: 0.810525\n",
            "Hyperparams(learning_rate=0.01, anneal_epochs=3, reg=1e-05)\n",
            "Average loss: 2.245219, Train accuracy: 0.181790, Val accuracy: 0.194253\n",
            "Average loss: 2.039001, Train accuracy: 0.288639, Val accuracy: 0.518941\n",
            "Average loss: 1.050278, Train accuracy: 0.684623, Val accuracy: 0.785066\n",
            "Average loss: 0.749653, Train accuracy: 0.785790, Val accuracy: 0.806839\n",
            "Average loss: 0.716366, Train accuracy: 0.796198, Val accuracy: 0.813323\n",
            "Average loss: 0.694724, Train accuracy: 0.802853, Val accuracy: 0.819876\n",
            "Average loss: 0.675602, Train accuracy: 0.809064, Val accuracy: 0.821582\n",
            "Average loss: 0.667780, Train accuracy: 0.811402, Val accuracy: 0.823698\n",
            "Average loss: 0.665821, Train accuracy: 0.811129, Val accuracy: 0.824927\n",
            "Average loss: 0.664607, Train accuracy: 0.813023, Val accuracy: 0.824039\n",
            "Hyperparams(learning_rate=0.01, anneal_epochs=3, reg=1e-07)\n",
            "Average loss: 2.241676, Train accuracy: 0.180937, Val accuracy: 0.198007\n",
            "Average loss: 1.783211, Train accuracy: 0.392793, Val accuracy: 0.621937\n",
            "Average loss: 0.943529, Train accuracy: 0.717913, Val accuracy: 0.775578\n",
            "Average loss: 0.750285, Train accuracy: 0.785892, Val accuracy: 0.802334\n",
            "Average loss: 0.725528, Train accuracy: 0.794441, Val accuracy: 0.812573\n",
            "Average loss: 0.701299, Train accuracy: 0.801113, Val accuracy: 0.809433\n",
            "Average loss: 0.683009, Train accuracy: 0.807528, Val accuracy: 0.820012\n",
            "Average loss: 0.680385, Train accuracy: 0.809866, Val accuracy: 0.819808\n",
            "Average loss: 0.677744, Train accuracy: 0.810668, Val accuracy: 0.819261\n",
            "Average loss: 0.674399, Train accuracy: 0.809593, Val accuracy: 0.820422\n",
            "Hyperparams(learning_rate=0.01, anneal_epochs=5, reg=0.001)\n",
            "Average loss: 2.240388, Train accuracy: 0.185561, Val accuracy: 0.197529\n",
            "Average loss: 1.995571, Train accuracy: 0.303962, Val accuracy: 0.536619\n"
          ],
          "name": "stdout"
        },
        {
          "output_type": "error",
          "ename": "KeyboardInterrupt",
          "evalue": "ignored",
          "traceback": [
            "\u001b[0;31m---------------------------------------------------------------------------\u001b[0m",
            "\u001b[0;31mKeyboardInterrupt\u001b[0m                         Traceback (most recent call last)",
            "\u001b[0;32m<ipython-input-49-765bb4b8ca5f>\u001b[0m in \u001b[0;36m<module>\u001b[0;34m()\u001b[0m\n\u001b[1;32m     90\u001b[0m     \u001b[0moptimizer\u001b[0m \u001b[0;34m=\u001b[0m \u001b[0moptim\u001b[0m\u001b[0;34m.\u001b[0m\u001b[0mSGD\u001b[0m\u001b[0;34m(\u001b[0m\u001b[0mlenet_model\u001b[0m\u001b[0;34m.\u001b[0m\u001b[0mparameters\u001b[0m\u001b[0;34m(\u001b[0m\u001b[0;34m)\u001b[0m\u001b[0;34m,\u001b[0m \u001b[0mlr\u001b[0m\u001b[0;34m=\u001b[0m\u001b[0mhparams\u001b[0m\u001b[0;34m.\u001b[0m\u001b[0mlearning_rate\u001b[0m\u001b[0;34m,\u001b[0m \u001b[0mweight_decay\u001b[0m\u001b[0;34m=\u001b[0m\u001b[0mhparams\u001b[0m\u001b[0;34m.\u001b[0m\u001b[0mreg\u001b[0m\u001b[0;34m)\u001b[0m\u001b[0;34m\u001b[0m\u001b[0;34m\u001b[0m\u001b[0m\n\u001b[1;32m     91\u001b[0m     \u001b[0mscheduler\u001b[0m \u001b[0;34m=\u001b[0m \u001b[0moptim\u001b[0m\u001b[0;34m.\u001b[0m\u001b[0mlr_scheduler\u001b[0m\u001b[0;34m.\u001b[0m\u001b[0mStepLR\u001b[0m\u001b[0;34m(\u001b[0m\u001b[0moptimizer\u001b[0m\u001b[0;34m,\u001b[0m \u001b[0mstep_size\u001b[0m\u001b[0;34m=\u001b[0m\u001b[0mhparams\u001b[0m\u001b[0;34m.\u001b[0m\u001b[0manneal_epochs\u001b[0m\u001b[0;34m,\u001b[0m \u001b[0mgamma\u001b[0m\u001b[0;34m=\u001b[0m\u001b[0manneal_coeff\u001b[0m\u001b[0;34m,\u001b[0m \u001b[0mlast_epoch\u001b[0m\u001b[0;34m=\u001b[0m\u001b[0;34m-\u001b[0m\u001b[0;36m1\u001b[0m\u001b[0;34m,\u001b[0m \u001b[0mverbose\u001b[0m\u001b[0;34m=\u001b[0m\u001b[0;32mFalse\u001b[0m\u001b[0;34m)\u001b[0m\u001b[0;34m\u001b[0m\u001b[0;34m\u001b[0m\u001b[0m\n\u001b[0;32m---> 92\u001b[0;31m     \u001b[0mloss_history\u001b[0m\u001b[0;34m,\u001b[0m \u001b[0mtrain_history\u001b[0m\u001b[0;34m,\u001b[0m \u001b[0mval_history\u001b[0m \u001b[0;34m=\u001b[0m \u001b[0mtrain_model_scheduled\u001b[0m\u001b[0;34m(\u001b[0m\u001b[0mlenet_model\u001b[0m\u001b[0;34m,\u001b[0m \u001b[0mtrain_aug_loader\u001b[0m\u001b[0;34m,\u001b[0m \u001b[0mval_loader\u001b[0m\u001b[0;34m,\u001b[0m \u001b[0mloss\u001b[0m\u001b[0;34m,\u001b[0m \u001b[0moptimizer\u001b[0m\u001b[0;34m,\u001b[0m \u001b[0mscheduler\u001b[0m\u001b[0;34m,\u001b[0m \u001b[0mepoch_num\u001b[0m\u001b[0;34m)\u001b[0m\u001b[0;34m\u001b[0m\u001b[0;34m\u001b[0m\u001b[0m\n\u001b[0m\u001b[1;32m     93\u001b[0m \u001b[0;34m\u001b[0m\u001b[0m\n\u001b[1;32m     94\u001b[0m     \u001b[0mfinal_val_accuracy\u001b[0m \u001b[0;34m=\u001b[0m \u001b[0mcompute_accuracy\u001b[0m\u001b[0;34m(\u001b[0m\u001b[0mlenet_model\u001b[0m\u001b[0;34m,\u001b[0m \u001b[0mval_loader\u001b[0m\u001b[0;34m)\u001b[0m\u001b[0;34m\u001b[0m\u001b[0;34m\u001b[0m\u001b[0m\n",
            "\u001b[0;32m<ipython-input-24-0b68b257d993>\u001b[0m in \u001b[0;36mtrain_model_scheduled\u001b[0;34m(model, train_loader, val_loader, loss, optimizer, scheduler, num_epochs)\u001b[0m\n\u001b[1;32m      9\u001b[0m         \u001b[0mcorrect_samples\u001b[0m \u001b[0;34m=\u001b[0m \u001b[0;36m0\u001b[0m\u001b[0;34m\u001b[0m\u001b[0;34m\u001b[0m\u001b[0m\n\u001b[1;32m     10\u001b[0m         \u001b[0mtotal_samples\u001b[0m \u001b[0;34m=\u001b[0m \u001b[0;36m0\u001b[0m\u001b[0;34m\u001b[0m\u001b[0;34m\u001b[0m\u001b[0m\n\u001b[0;32m---> 11\u001b[0;31m         \u001b[0;32mfor\u001b[0m \u001b[0mi_step\u001b[0m\u001b[0;34m,\u001b[0m \u001b[0;34m(\u001b[0m\u001b[0mx\u001b[0m\u001b[0;34m,\u001b[0m \u001b[0my\u001b[0m\u001b[0;34m)\u001b[0m \u001b[0;32min\u001b[0m \u001b[0menumerate\u001b[0m\u001b[0;34m(\u001b[0m\u001b[0mtrain_loader\u001b[0m\u001b[0;34m)\u001b[0m\u001b[0;34m:\u001b[0m\u001b[0;34m\u001b[0m\u001b[0;34m\u001b[0m\u001b[0m\n\u001b[0m\u001b[1;32m     12\u001b[0m \u001b[0;34m\u001b[0m\u001b[0m\n\u001b[1;32m     13\u001b[0m             \u001b[0mx_gpu\u001b[0m \u001b[0;34m=\u001b[0m \u001b[0mx\u001b[0m\u001b[0;34m.\u001b[0m\u001b[0mto\u001b[0m\u001b[0;34m(\u001b[0m\u001b[0mdevice\u001b[0m\u001b[0;34m)\u001b[0m\u001b[0;34m\u001b[0m\u001b[0;34m\u001b[0m\u001b[0m\n",
            "\u001b[0;32m/usr/local/lib/python3.6/dist-packages/torch/utils/data/dataloader.py\u001b[0m in \u001b[0;36m__next__\u001b[0;34m(self)\u001b[0m\n\u001b[1;32m    433\u001b[0m         \u001b[0;32mif\u001b[0m \u001b[0mself\u001b[0m\u001b[0;34m.\u001b[0m\u001b[0m_sampler_iter\u001b[0m \u001b[0;32mis\u001b[0m \u001b[0;32mNone\u001b[0m\u001b[0;34m:\u001b[0m\u001b[0;34m\u001b[0m\u001b[0;34m\u001b[0m\u001b[0m\n\u001b[1;32m    434\u001b[0m             \u001b[0mself\u001b[0m\u001b[0;34m.\u001b[0m\u001b[0m_reset\u001b[0m\u001b[0;34m(\u001b[0m\u001b[0;34m)\u001b[0m\u001b[0;34m\u001b[0m\u001b[0;34m\u001b[0m\u001b[0m\n\u001b[0;32m--> 435\u001b[0;31m         \u001b[0mdata\u001b[0m \u001b[0;34m=\u001b[0m \u001b[0mself\u001b[0m\u001b[0;34m.\u001b[0m\u001b[0m_next_data\u001b[0m\u001b[0;34m(\u001b[0m\u001b[0;34m)\u001b[0m\u001b[0;34m\u001b[0m\u001b[0;34m\u001b[0m\u001b[0m\n\u001b[0m\u001b[1;32m    436\u001b[0m         \u001b[0mself\u001b[0m\u001b[0;34m.\u001b[0m\u001b[0m_num_yielded\u001b[0m \u001b[0;34m+=\u001b[0m \u001b[0;36m1\u001b[0m\u001b[0;34m\u001b[0m\u001b[0;34m\u001b[0m\u001b[0m\n\u001b[1;32m    437\u001b[0m         \u001b[0;32mif\u001b[0m \u001b[0mself\u001b[0m\u001b[0;34m.\u001b[0m\u001b[0m_dataset_kind\u001b[0m \u001b[0;34m==\u001b[0m \u001b[0m_DatasetKind\u001b[0m\u001b[0;34m.\u001b[0m\u001b[0mIterable\u001b[0m \u001b[0;32mand\u001b[0m\u001b[0;31m \u001b[0m\u001b[0;31m\\\u001b[0m\u001b[0;34m\u001b[0m\u001b[0;34m\u001b[0m\u001b[0m\n",
            "\u001b[0;32m/usr/local/lib/python3.6/dist-packages/torch/utils/data/dataloader.py\u001b[0m in \u001b[0;36m_next_data\u001b[0;34m(self)\u001b[0m\n\u001b[1;32m    473\u001b[0m     \u001b[0;32mdef\u001b[0m \u001b[0m_next_data\u001b[0m\u001b[0;34m(\u001b[0m\u001b[0mself\u001b[0m\u001b[0;34m)\u001b[0m\u001b[0;34m:\u001b[0m\u001b[0;34m\u001b[0m\u001b[0;34m\u001b[0m\u001b[0m\n\u001b[1;32m    474\u001b[0m         \u001b[0mindex\u001b[0m \u001b[0;34m=\u001b[0m \u001b[0mself\u001b[0m\u001b[0;34m.\u001b[0m\u001b[0m_next_index\u001b[0m\u001b[0;34m(\u001b[0m\u001b[0;34m)\u001b[0m  \u001b[0;31m# may raise StopIteration\u001b[0m\u001b[0;34m\u001b[0m\u001b[0;34m\u001b[0m\u001b[0m\n\u001b[0;32m--> 475\u001b[0;31m         \u001b[0mdata\u001b[0m \u001b[0;34m=\u001b[0m \u001b[0mself\u001b[0m\u001b[0;34m.\u001b[0m\u001b[0m_dataset_fetcher\u001b[0m\u001b[0;34m.\u001b[0m\u001b[0mfetch\u001b[0m\u001b[0;34m(\u001b[0m\u001b[0mindex\u001b[0m\u001b[0;34m)\u001b[0m  \u001b[0;31m# may raise StopIteration\u001b[0m\u001b[0;34m\u001b[0m\u001b[0;34m\u001b[0m\u001b[0m\n\u001b[0m\u001b[1;32m    476\u001b[0m         \u001b[0;32mif\u001b[0m \u001b[0mself\u001b[0m\u001b[0;34m.\u001b[0m\u001b[0m_pin_memory\u001b[0m\u001b[0;34m:\u001b[0m\u001b[0;34m\u001b[0m\u001b[0;34m\u001b[0m\u001b[0m\n\u001b[1;32m    477\u001b[0m             \u001b[0mdata\u001b[0m \u001b[0;34m=\u001b[0m \u001b[0m_utils\u001b[0m\u001b[0;34m.\u001b[0m\u001b[0mpin_memory\u001b[0m\u001b[0;34m.\u001b[0m\u001b[0mpin_memory\u001b[0m\u001b[0;34m(\u001b[0m\u001b[0mdata\u001b[0m\u001b[0;34m)\u001b[0m\u001b[0;34m\u001b[0m\u001b[0;34m\u001b[0m\u001b[0m\n",
            "\u001b[0;32m/usr/local/lib/python3.6/dist-packages/torch/utils/data/_utils/fetch.py\u001b[0m in \u001b[0;36mfetch\u001b[0;34m(self, possibly_batched_index)\u001b[0m\n\u001b[1;32m     42\u001b[0m     \u001b[0;32mdef\u001b[0m \u001b[0mfetch\u001b[0m\u001b[0;34m(\u001b[0m\u001b[0mself\u001b[0m\u001b[0;34m,\u001b[0m \u001b[0mpossibly_batched_index\u001b[0m\u001b[0;34m)\u001b[0m\u001b[0;34m:\u001b[0m\u001b[0;34m\u001b[0m\u001b[0;34m\u001b[0m\u001b[0m\n\u001b[1;32m     43\u001b[0m         \u001b[0;32mif\u001b[0m \u001b[0mself\u001b[0m\u001b[0;34m.\u001b[0m\u001b[0mauto_collation\u001b[0m\u001b[0;34m:\u001b[0m\u001b[0;34m\u001b[0m\u001b[0;34m\u001b[0m\u001b[0m\n\u001b[0;32m---> 44\u001b[0;31m             \u001b[0mdata\u001b[0m \u001b[0;34m=\u001b[0m \u001b[0;34m[\u001b[0m\u001b[0mself\u001b[0m\u001b[0;34m.\u001b[0m\u001b[0mdataset\u001b[0m\u001b[0;34m[\u001b[0m\u001b[0midx\u001b[0m\u001b[0;34m]\u001b[0m \u001b[0;32mfor\u001b[0m \u001b[0midx\u001b[0m \u001b[0;32min\u001b[0m \u001b[0mpossibly_batched_index\u001b[0m\u001b[0;34m]\u001b[0m\u001b[0;34m\u001b[0m\u001b[0;34m\u001b[0m\u001b[0m\n\u001b[0m\u001b[1;32m     45\u001b[0m         \u001b[0;32melse\u001b[0m\u001b[0;34m:\u001b[0m\u001b[0;34m\u001b[0m\u001b[0;34m\u001b[0m\u001b[0m\n\u001b[1;32m     46\u001b[0m             \u001b[0mdata\u001b[0m \u001b[0;34m=\u001b[0m \u001b[0mself\u001b[0m\u001b[0;34m.\u001b[0m\u001b[0mdataset\u001b[0m\u001b[0;34m[\u001b[0m\u001b[0mpossibly_batched_index\u001b[0m\u001b[0;34m]\u001b[0m\u001b[0;34m\u001b[0m\u001b[0;34m\u001b[0m\u001b[0m\n",
            "\u001b[0;32m/usr/local/lib/python3.6/dist-packages/torch/utils/data/_utils/fetch.py\u001b[0m in \u001b[0;36m<listcomp>\u001b[0;34m(.0)\u001b[0m\n\u001b[1;32m     42\u001b[0m     \u001b[0;32mdef\u001b[0m \u001b[0mfetch\u001b[0m\u001b[0;34m(\u001b[0m\u001b[0mself\u001b[0m\u001b[0;34m,\u001b[0m \u001b[0mpossibly_batched_index\u001b[0m\u001b[0;34m)\u001b[0m\u001b[0;34m:\u001b[0m\u001b[0;34m\u001b[0m\u001b[0;34m\u001b[0m\u001b[0m\n\u001b[1;32m     43\u001b[0m         \u001b[0;32mif\u001b[0m \u001b[0mself\u001b[0m\u001b[0;34m.\u001b[0m\u001b[0mauto_collation\u001b[0m\u001b[0;34m:\u001b[0m\u001b[0;34m\u001b[0m\u001b[0;34m\u001b[0m\u001b[0m\n\u001b[0;32m---> 44\u001b[0;31m             \u001b[0mdata\u001b[0m \u001b[0;34m=\u001b[0m \u001b[0;34m[\u001b[0m\u001b[0mself\u001b[0m\u001b[0;34m.\u001b[0m\u001b[0mdataset\u001b[0m\u001b[0;34m[\u001b[0m\u001b[0midx\u001b[0m\u001b[0;34m]\u001b[0m \u001b[0;32mfor\u001b[0m \u001b[0midx\u001b[0m \u001b[0;32min\u001b[0m \u001b[0mpossibly_batched_index\u001b[0m\u001b[0;34m]\u001b[0m\u001b[0;34m\u001b[0m\u001b[0;34m\u001b[0m\u001b[0m\n\u001b[0m\u001b[1;32m     45\u001b[0m         \u001b[0;32melse\u001b[0m\u001b[0;34m:\u001b[0m\u001b[0;34m\u001b[0m\u001b[0;34m\u001b[0m\u001b[0m\n\u001b[1;32m     46\u001b[0m             \u001b[0mdata\u001b[0m \u001b[0;34m=\u001b[0m \u001b[0mself\u001b[0m\u001b[0;34m.\u001b[0m\u001b[0mdataset\u001b[0m\u001b[0;34m[\u001b[0m\u001b[0mpossibly_batched_index\u001b[0m\u001b[0;34m]\u001b[0m\u001b[0;34m\u001b[0m\u001b[0;34m\u001b[0m\u001b[0m\n",
            "\u001b[0;32m/usr/local/lib/python3.6/dist-packages/torchvision/datasets/svhn.py\u001b[0m in \u001b[0;36m__getitem__\u001b[0;34m(self, index)\u001b[0m\n\u001b[1;32m     98\u001b[0m \u001b[0;34m\u001b[0m\u001b[0m\n\u001b[1;32m     99\u001b[0m         \u001b[0;32mif\u001b[0m \u001b[0mself\u001b[0m\u001b[0;34m.\u001b[0m\u001b[0mtransform\u001b[0m \u001b[0;32mis\u001b[0m \u001b[0;32mnot\u001b[0m \u001b[0;32mNone\u001b[0m\u001b[0;34m:\u001b[0m\u001b[0;34m\u001b[0m\u001b[0;34m\u001b[0m\u001b[0m\n\u001b[0;32m--> 100\u001b[0;31m             \u001b[0mimg\u001b[0m \u001b[0;34m=\u001b[0m \u001b[0mself\u001b[0m\u001b[0;34m.\u001b[0m\u001b[0mtransform\u001b[0m\u001b[0;34m(\u001b[0m\u001b[0mimg\u001b[0m\u001b[0;34m)\u001b[0m\u001b[0;34m\u001b[0m\u001b[0;34m\u001b[0m\u001b[0m\n\u001b[0m\u001b[1;32m    101\u001b[0m \u001b[0;34m\u001b[0m\u001b[0m\n\u001b[1;32m    102\u001b[0m         \u001b[0;32mif\u001b[0m \u001b[0mself\u001b[0m\u001b[0;34m.\u001b[0m\u001b[0mtarget_transform\u001b[0m \u001b[0;32mis\u001b[0m \u001b[0;32mnot\u001b[0m \u001b[0;32mNone\u001b[0m\u001b[0;34m:\u001b[0m\u001b[0;34m\u001b[0m\u001b[0;34m\u001b[0m\u001b[0m\n",
            "\u001b[0;32m/usr/local/lib/python3.6/dist-packages/torchvision/transforms/transforms.py\u001b[0m in \u001b[0;36m__call__\u001b[0;34m(self, img)\u001b[0m\n\u001b[1;32m     65\u001b[0m     \u001b[0;32mdef\u001b[0m \u001b[0m__call__\u001b[0m\u001b[0;34m(\u001b[0m\u001b[0mself\u001b[0m\u001b[0;34m,\u001b[0m \u001b[0mimg\u001b[0m\u001b[0;34m)\u001b[0m\u001b[0;34m:\u001b[0m\u001b[0;34m\u001b[0m\u001b[0;34m\u001b[0m\u001b[0m\n\u001b[1;32m     66\u001b[0m         \u001b[0;32mfor\u001b[0m \u001b[0mt\u001b[0m \u001b[0;32min\u001b[0m \u001b[0mself\u001b[0m\u001b[0;34m.\u001b[0m\u001b[0mtransforms\u001b[0m\u001b[0;34m:\u001b[0m\u001b[0;34m\u001b[0m\u001b[0;34m\u001b[0m\u001b[0m\n\u001b[0;32m---> 67\u001b[0;31m             \u001b[0mimg\u001b[0m \u001b[0;34m=\u001b[0m \u001b[0mt\u001b[0m\u001b[0;34m(\u001b[0m\u001b[0mimg\u001b[0m\u001b[0;34m)\u001b[0m\u001b[0;34m\u001b[0m\u001b[0;34m\u001b[0m\u001b[0m\n\u001b[0m\u001b[1;32m     68\u001b[0m         \u001b[0;32mreturn\u001b[0m \u001b[0mimg\u001b[0m\u001b[0;34m\u001b[0m\u001b[0;34m\u001b[0m\u001b[0m\n\u001b[1;32m     69\u001b[0m \u001b[0;34m\u001b[0m\u001b[0m\n",
            "\u001b[0;32m/usr/local/lib/python3.6/dist-packages/torch/nn/modules/module.py\u001b[0m in \u001b[0;36m_call_impl\u001b[0;34m(self, *input, **kwargs)\u001b[0m\n\u001b[1;32m    725\u001b[0m             \u001b[0mresult\u001b[0m \u001b[0;34m=\u001b[0m \u001b[0mself\u001b[0m\u001b[0;34m.\u001b[0m\u001b[0m_slow_forward\u001b[0m\u001b[0;34m(\u001b[0m\u001b[0;34m*\u001b[0m\u001b[0minput\u001b[0m\u001b[0;34m,\u001b[0m \u001b[0;34m**\u001b[0m\u001b[0mkwargs\u001b[0m\u001b[0;34m)\u001b[0m\u001b[0;34m\u001b[0m\u001b[0;34m\u001b[0m\u001b[0m\n\u001b[1;32m    726\u001b[0m         \u001b[0;32melse\u001b[0m\u001b[0;34m:\u001b[0m\u001b[0;34m\u001b[0m\u001b[0;34m\u001b[0m\u001b[0m\n\u001b[0;32m--> 727\u001b[0;31m             \u001b[0mresult\u001b[0m \u001b[0;34m=\u001b[0m \u001b[0mself\u001b[0m\u001b[0;34m.\u001b[0m\u001b[0mforward\u001b[0m\u001b[0;34m(\u001b[0m\u001b[0;34m*\u001b[0m\u001b[0minput\u001b[0m\u001b[0;34m,\u001b[0m \u001b[0;34m**\u001b[0m\u001b[0mkwargs\u001b[0m\u001b[0;34m)\u001b[0m\u001b[0;34m\u001b[0m\u001b[0;34m\u001b[0m\u001b[0m\n\u001b[0m\u001b[1;32m    728\u001b[0m         for hook in itertools.chain(\n\u001b[1;32m    729\u001b[0m                 \u001b[0m_global_forward_hooks\u001b[0m\u001b[0;34m.\u001b[0m\u001b[0mvalues\u001b[0m\u001b[0;34m(\u001b[0m\u001b[0;34m)\u001b[0m\u001b[0;34m,\u001b[0m\u001b[0;34m\u001b[0m\u001b[0;34m\u001b[0m\u001b[0m\n",
            "\u001b[0;32m/usr/local/lib/python3.6/dist-packages/torchvision/transforms/transforms.py\u001b[0m in \u001b[0;36mforward\u001b[0;34m(self, img)\u001b[0m\n\u001b[1;32m   1186\u001b[0m         \"\"\"\n\u001b[1;32m   1187\u001b[0m         \u001b[0mangle\u001b[0m \u001b[0;34m=\u001b[0m \u001b[0mself\u001b[0m\u001b[0;34m.\u001b[0m\u001b[0mget_params\u001b[0m\u001b[0;34m(\u001b[0m\u001b[0mself\u001b[0m\u001b[0;34m.\u001b[0m\u001b[0mdegrees\u001b[0m\u001b[0;34m)\u001b[0m\u001b[0;34m\u001b[0m\u001b[0;34m\u001b[0m\u001b[0m\n\u001b[0;32m-> 1188\u001b[0;31m         \u001b[0;32mreturn\u001b[0m \u001b[0mF\u001b[0m\u001b[0;34m.\u001b[0m\u001b[0mrotate\u001b[0m\u001b[0;34m(\u001b[0m\u001b[0mimg\u001b[0m\u001b[0;34m,\u001b[0m \u001b[0mangle\u001b[0m\u001b[0;34m,\u001b[0m \u001b[0mself\u001b[0m\u001b[0;34m.\u001b[0m\u001b[0mresample\u001b[0m\u001b[0;34m,\u001b[0m \u001b[0mself\u001b[0m\u001b[0;34m.\u001b[0m\u001b[0mexpand\u001b[0m\u001b[0;34m,\u001b[0m \u001b[0mself\u001b[0m\u001b[0;34m.\u001b[0m\u001b[0mcenter\u001b[0m\u001b[0;34m,\u001b[0m \u001b[0mself\u001b[0m\u001b[0;34m.\u001b[0m\u001b[0mfill\u001b[0m\u001b[0;34m)\u001b[0m\u001b[0;34m\u001b[0m\u001b[0;34m\u001b[0m\u001b[0m\n\u001b[0m\u001b[1;32m   1189\u001b[0m \u001b[0;34m\u001b[0m\u001b[0m\n\u001b[1;32m   1190\u001b[0m     \u001b[0;32mdef\u001b[0m \u001b[0m__repr__\u001b[0m\u001b[0;34m(\u001b[0m\u001b[0mself\u001b[0m\u001b[0;34m)\u001b[0m\u001b[0;34m:\u001b[0m\u001b[0;34m\u001b[0m\u001b[0;34m\u001b[0m\u001b[0m\n",
            "\u001b[0;32m/usr/local/lib/python3.6/dist-packages/torchvision/transforms/functional.py\u001b[0m in \u001b[0;36mrotate\u001b[0;34m(img, angle, resample, expand, center, fill)\u001b[0m\n\u001b[1;32m    843\u001b[0m     \u001b[0;31m# we need to set -angle.\u001b[0m\u001b[0;34m\u001b[0m\u001b[0;34m\u001b[0m\u001b[0;34m\u001b[0m\u001b[0m\n\u001b[1;32m    844\u001b[0m     \u001b[0mmatrix\u001b[0m \u001b[0;34m=\u001b[0m \u001b[0m_get_inverse_affine_matrix\u001b[0m\u001b[0;34m(\u001b[0m\u001b[0mcenter_f\u001b[0m\u001b[0;34m,\u001b[0m \u001b[0;34m-\u001b[0m\u001b[0mangle\u001b[0m\u001b[0;34m,\u001b[0m \u001b[0;34m[\u001b[0m\u001b[0;36m0.0\u001b[0m\u001b[0;34m,\u001b[0m \u001b[0;36m0.0\u001b[0m\u001b[0;34m]\u001b[0m\u001b[0;34m,\u001b[0m \u001b[0;36m1.0\u001b[0m\u001b[0;34m,\u001b[0m \u001b[0;34m[\u001b[0m\u001b[0;36m0.0\u001b[0m\u001b[0;34m,\u001b[0m \u001b[0;36m0.0\u001b[0m\u001b[0;34m]\u001b[0m\u001b[0;34m)\u001b[0m\u001b[0;34m\u001b[0m\u001b[0;34m\u001b[0m\u001b[0m\n\u001b[0;32m--> 845\u001b[0;31m     \u001b[0;32mreturn\u001b[0m \u001b[0mF_t\u001b[0m\u001b[0;34m.\u001b[0m\u001b[0mrotate\u001b[0m\u001b[0;34m(\u001b[0m\u001b[0mimg\u001b[0m\u001b[0;34m,\u001b[0m \u001b[0mmatrix\u001b[0m\u001b[0;34m=\u001b[0m\u001b[0mmatrix\u001b[0m\u001b[0;34m,\u001b[0m \u001b[0mresample\u001b[0m\u001b[0;34m=\u001b[0m\u001b[0mresample\u001b[0m\u001b[0;34m,\u001b[0m \u001b[0mexpand\u001b[0m\u001b[0;34m=\u001b[0m\u001b[0mexpand\u001b[0m\u001b[0;34m,\u001b[0m \u001b[0mfill\u001b[0m\u001b[0;34m=\u001b[0m\u001b[0mfill\u001b[0m\u001b[0;34m)\u001b[0m\u001b[0;34m\u001b[0m\u001b[0;34m\u001b[0m\u001b[0m\n\u001b[0m\u001b[1;32m    846\u001b[0m \u001b[0;34m\u001b[0m\u001b[0m\n\u001b[1;32m    847\u001b[0m \u001b[0;34m\u001b[0m\u001b[0m\n",
            "\u001b[0;32m/usr/local/lib/python3.6/dist-packages/torchvision/transforms/functional_tensor.py\u001b[0m in \u001b[0;36mrotate\u001b[0;34m(img, matrix, resample, expand, fill)\u001b[0m\n\u001b[1;32m   1043\u001b[0m     \u001b[0mtheta\u001b[0m \u001b[0;34m=\u001b[0m \u001b[0mtorch\u001b[0m\u001b[0;34m.\u001b[0m\u001b[0mtensor\u001b[0m\u001b[0;34m(\u001b[0m\u001b[0mmatrix\u001b[0m\u001b[0;34m,\u001b[0m \u001b[0mdtype\u001b[0m\u001b[0;34m=\u001b[0m\u001b[0mdtype\u001b[0m\u001b[0;34m,\u001b[0m \u001b[0mdevice\u001b[0m\u001b[0;34m=\u001b[0m\u001b[0mimg\u001b[0m\u001b[0;34m.\u001b[0m\u001b[0mdevice\u001b[0m\u001b[0;34m)\u001b[0m\u001b[0;34m.\u001b[0m\u001b[0mreshape\u001b[0m\u001b[0;34m(\u001b[0m\u001b[0;36m1\u001b[0m\u001b[0;34m,\u001b[0m \u001b[0;36m2\u001b[0m\u001b[0;34m,\u001b[0m \u001b[0;36m3\u001b[0m\u001b[0;34m)\u001b[0m\u001b[0;34m\u001b[0m\u001b[0;34m\u001b[0m\u001b[0m\n\u001b[1;32m   1044\u001b[0m     \u001b[0;31m# grid will be generated on the same device as theta and img\u001b[0m\u001b[0;34m\u001b[0m\u001b[0;34m\u001b[0m\u001b[0;34m\u001b[0m\u001b[0m\n\u001b[0;32m-> 1045\u001b[0;31m     \u001b[0mgrid\u001b[0m \u001b[0;34m=\u001b[0m \u001b[0m_gen_affine_grid\u001b[0m\u001b[0;34m(\u001b[0m\u001b[0mtheta\u001b[0m\u001b[0;34m,\u001b[0m \u001b[0mw\u001b[0m\u001b[0;34m=\u001b[0m\u001b[0mw\u001b[0m\u001b[0;34m,\u001b[0m \u001b[0mh\u001b[0m\u001b[0;34m=\u001b[0m\u001b[0mh\u001b[0m\u001b[0;34m,\u001b[0m \u001b[0mow\u001b[0m\u001b[0;34m=\u001b[0m\u001b[0mow\u001b[0m\u001b[0;34m,\u001b[0m \u001b[0moh\u001b[0m\u001b[0;34m=\u001b[0m\u001b[0moh\u001b[0m\u001b[0;34m)\u001b[0m\u001b[0;34m\u001b[0m\u001b[0;34m\u001b[0m\u001b[0m\n\u001b[0m\u001b[1;32m   1046\u001b[0m     \u001b[0mmode\u001b[0m \u001b[0;34m=\u001b[0m \u001b[0m_interpolation_modes\u001b[0m\u001b[0;34m[\u001b[0m\u001b[0mresample\u001b[0m\u001b[0;34m]\u001b[0m\u001b[0;34m\u001b[0m\u001b[0;34m\u001b[0m\u001b[0m\n\u001b[1;32m   1047\u001b[0m \u001b[0;34m\u001b[0m\u001b[0m\n",
            "\u001b[0;32m/usr/local/lib/python3.6/dist-packages/torchvision/transforms/functional_tensor.py\u001b[0m in \u001b[0;36m_gen_affine_grid\u001b[0;34m(theta, w, h, ow, oh)\u001b[0m\n\u001b[1;32m    931\u001b[0m     \u001b[0mbase_grid\u001b[0m \u001b[0;34m=\u001b[0m \u001b[0mtorch\u001b[0m\u001b[0;34m.\u001b[0m\u001b[0mempty\u001b[0m\u001b[0;34m(\u001b[0m\u001b[0;36m1\u001b[0m\u001b[0;34m,\u001b[0m \u001b[0moh\u001b[0m\u001b[0;34m,\u001b[0m \u001b[0mow\u001b[0m\u001b[0;34m,\u001b[0m \u001b[0;36m3\u001b[0m\u001b[0;34m,\u001b[0m \u001b[0mdtype\u001b[0m\u001b[0;34m=\u001b[0m\u001b[0mtheta\u001b[0m\u001b[0;34m.\u001b[0m\u001b[0mdtype\u001b[0m\u001b[0;34m,\u001b[0m \u001b[0mdevice\u001b[0m\u001b[0;34m=\u001b[0m\u001b[0mtheta\u001b[0m\u001b[0;34m.\u001b[0m\u001b[0mdevice\u001b[0m\u001b[0;34m)\u001b[0m\u001b[0;34m\u001b[0m\u001b[0;34m\u001b[0m\u001b[0m\n\u001b[1;32m    932\u001b[0m     \u001b[0mx_grid\u001b[0m \u001b[0;34m=\u001b[0m \u001b[0mtorch\u001b[0m\u001b[0;34m.\u001b[0m\u001b[0mlinspace\u001b[0m\u001b[0;34m(\u001b[0m\u001b[0;34m-\u001b[0m\u001b[0mow\u001b[0m \u001b[0;34m*\u001b[0m \u001b[0;36m0.5\u001b[0m \u001b[0;34m+\u001b[0m \u001b[0md\u001b[0m\u001b[0;34m,\u001b[0m \u001b[0mow\u001b[0m \u001b[0;34m*\u001b[0m \u001b[0;36m0.5\u001b[0m \u001b[0;34m+\u001b[0m \u001b[0md\u001b[0m \u001b[0;34m-\u001b[0m \u001b[0;36m1\u001b[0m\u001b[0;34m,\u001b[0m \u001b[0msteps\u001b[0m\u001b[0;34m=\u001b[0m\u001b[0mow\u001b[0m\u001b[0;34m,\u001b[0m \u001b[0mdevice\u001b[0m\u001b[0;34m=\u001b[0m\u001b[0mtheta\u001b[0m\u001b[0;34m.\u001b[0m\u001b[0mdevice\u001b[0m\u001b[0;34m)\u001b[0m\u001b[0;34m\u001b[0m\u001b[0;34m\u001b[0m\u001b[0m\n\u001b[0;32m--> 933\u001b[0;31m     \u001b[0mbase_grid\u001b[0m\u001b[0;34m[\u001b[0m\u001b[0;34m...\u001b[0m\u001b[0;34m,\u001b[0m \u001b[0;36m0\u001b[0m\u001b[0;34m]\u001b[0m\u001b[0;34m.\u001b[0m\u001b[0mcopy_\u001b[0m\u001b[0;34m(\u001b[0m\u001b[0mx_grid\u001b[0m\u001b[0;34m)\u001b[0m\u001b[0;34m\u001b[0m\u001b[0;34m\u001b[0m\u001b[0m\n\u001b[0m\u001b[1;32m    934\u001b[0m     \u001b[0my_grid\u001b[0m \u001b[0;34m=\u001b[0m \u001b[0mtorch\u001b[0m\u001b[0;34m.\u001b[0m\u001b[0mlinspace\u001b[0m\u001b[0;34m(\u001b[0m\u001b[0;34m-\u001b[0m\u001b[0moh\u001b[0m \u001b[0;34m*\u001b[0m \u001b[0;36m0.5\u001b[0m \u001b[0;34m+\u001b[0m \u001b[0md\u001b[0m\u001b[0;34m,\u001b[0m \u001b[0moh\u001b[0m \u001b[0;34m*\u001b[0m \u001b[0;36m0.5\u001b[0m \u001b[0;34m+\u001b[0m \u001b[0md\u001b[0m \u001b[0;34m-\u001b[0m \u001b[0;36m1\u001b[0m\u001b[0;34m,\u001b[0m \u001b[0msteps\u001b[0m\u001b[0;34m=\u001b[0m\u001b[0moh\u001b[0m\u001b[0;34m,\u001b[0m \u001b[0mdevice\u001b[0m\u001b[0;34m=\u001b[0m\u001b[0mtheta\u001b[0m\u001b[0;34m.\u001b[0m\u001b[0mdevice\u001b[0m\u001b[0;34m)\u001b[0m\u001b[0;34m.\u001b[0m\u001b[0munsqueeze_\u001b[0m\u001b[0;34m(\u001b[0m\u001b[0;34m-\u001b[0m\u001b[0;36m1\u001b[0m\u001b[0;34m)\u001b[0m\u001b[0;34m\u001b[0m\u001b[0;34m\u001b[0m\u001b[0m\n\u001b[1;32m    935\u001b[0m     \u001b[0mbase_grid\u001b[0m\u001b[0;34m[\u001b[0m\u001b[0;34m...\u001b[0m\u001b[0;34m,\u001b[0m \u001b[0;36m1\u001b[0m\u001b[0;34m]\u001b[0m\u001b[0;34m.\u001b[0m\u001b[0mcopy_\u001b[0m\u001b[0;34m(\u001b[0m\u001b[0my_grid\u001b[0m\u001b[0;34m)\u001b[0m\u001b[0;34m\u001b[0m\u001b[0;34m\u001b[0m\u001b[0m\n",
            "\u001b[0;31mKeyboardInterrupt\u001b[0m: "
          ]
        }
      ]
    },
    {
      "cell_type": "code",
      "metadata": {
        "id": "Y6xExdw8JB1l",
        "colab": {
          "base_uri": "https://localhost:8080/"
        },
        "outputId": "f7b0ecde-d131-41f4-bc22-121f303fb8d3"
      },
      "source": [
        "best_val_accuracy = None\n",
        "best_hyperparams = None\n",
        "best_run = None\n",
        "\n",
        "for hyperparams, run_result in run_record.items():\n",
        "    if best_val_accuracy is None or best_val_accuracy < run_result.final_val_accuracy:\n",
        "        best_val_accuracy = run_result.final_val_accuracy\n",
        "        best_hyperparams = hyperparams\n",
        "        best_run = run_result\n",
        "        \n",
        "print(\"Best validation accuracy: %4.2f, best hyperparams: %s\" % (best_val_accuracy, best_hyperparams))\n",
        "        "
      ],
      "execution_count": null,
      "outputs": [
        {
          "output_type": "stream",
          "text": [
            "Best validation accuracy: 0.88, best hyperparams: Hyperparams(learning_rate=0.1, anneal_epochs=5, reg=0.001)\n"
          ],
          "name": "stdout"
        }
      ]
    },
    {
      "cell_type": "markdown",
      "metadata": {
        "id": "LOmsR0uVgtgf"
      },
      "source": [
        "# Свободное упражнение - догоним и перегоним LeNet!\n",
        "\n",
        "Попробуйте найти архитектуру и настройки тренировки, чтобы выступить лучше наших бейзлайнов.\n",
        "\n",
        "Что можно и нужно попробовать:\n",
        "- BatchNormalization (для convolution layers он в PyTorch называется [batchnorm2d](https://pytorch.org/docs/stable/nn.html#batchnorm2d))\n",
        "- Изменить количество слоев и их толщину\n",
        "- Изменять количество эпох тренировки\n",
        "- Попробовать и другие агментации"
      ]
    },
    {
      "cell_type": "code",
      "metadata": {
        "id": "30tE6Yw4ZLFg"
      },
      "source": [
        "Hyperparams = namedtuple(\"Hyperparams\", ['learning_rate', 'anneal_epochs', 'reg'])\n",
        "RunResult = namedtuple(\"RunResult\", ['model', 'train_history', 'val_history', 'final_val_accuracy'])\n",
        "\n",
        "# Record all the runs here\n",
        "# Key should be Hyperparams and values should be RunResult\n",
        "run_record = {} "
      ],
      "execution_count": null,
      "outputs": []
    },
    {
      "cell_type": "code",
      "metadata": {
        "id": "zB-MQAxsXAXs"
      },
      "source": [
        "np.random.seed(42)\n",
        "# The key hyperparameters we're going to tune are learning speed, annealing rate and regularization\n",
        "# We also encourage you to try different optimizers as well\n",
        "\n",
        "anneal_coeff = 0.2\n",
        "\n",
        "batch_size = 64\n",
        "\n",
        "\n",
        "# load data\n",
        "data_train = dset.SVHN('./', \n",
        "                       transform=transforms.Compose([\n",
        "                           transforms.ToTensor(),\n",
        "                           transforms.Normalize(mean=[0.43,0.44,0.47],\n",
        "                                               std=[0.20,0.20,0.20])                           \n",
        "                       ])\n",
        "                      )\n",
        "data_test = dset.SVHN('./', split='test', transform=transforms.Compose([\n",
        "                           transforms.ToTensor(),\n",
        "                           transforms.Normalize(mean=[0.43,0.44,0.47],\n",
        "                                               std=[0.20,0.20,0.20])                           \n",
        "                       ]))\n",
        "\n",
        "# make datasets and loaders\n",
        "data_size = data_train.data.shape[0]\n",
        "validation_split = .2\n",
        "split = int(np.floor(validation_split * data_size))\n",
        "indices = list(range(data_size))\n",
        "np.random.shuffle(indices)\n",
        "\n",
        "train_indices, val_indices = indices[split:], indices[:split]\n",
        "\n",
        "train_sampler = SubsetRandomSampler(train_indices)\n",
        "val_sampler = SubsetRandomSampler(val_indices)\n",
        "test_sampler = SequentialSampler(data_test)\n",
        "\n",
        "val_loader = torch.utils.data.DataLoader(data_train, batch_size=batch_size,\n",
        "                                         sampler=val_sampler)\n",
        "test_loader = torch.utils.data.DataLoader(data_test, batch_size=batch_size,\n",
        "                                         sampler=test_sampler)\n",
        "\n",
        "\n",
        "# apply augmentations\n",
        "tfs = transforms.Compose([\n",
        "    transforms.ToTensor(),\n",
        "    transforms.Normalize(mean=[0.43,0.44,0.47],\n",
        "                       std=[0.20,0.20,0.20]),\n",
        "    #transforms.ColorJitter(hue=.20, saturation=.20),\n",
        "    transforms.RandomRotation(10, resample=PIL.Image.BILINEAR)\n",
        "])\n",
        "\n",
        "data_aug_train = dset.SVHN('./', \n",
        "                       transform=tfs\n",
        "                      )\n",
        "\n",
        "train_aug_loader = torch.utils.data.DataLoader(data_aug_train, batch_size=batch_size, \n",
        "                                               sampler=train_sampler)"
      ],
      "execution_count": null,
      "outputs": []
    },
    {
      "cell_type": "code",
      "metadata": {
        "colab": {
          "base_uri": "https://localhost:8080/"
        },
        "id": "1TnZqwiNZfqV",
        "outputId": "c418940b-86a6-4965-ab56-ca6caad484d5"
      },
      "source": [
        "np.random.seed(42)\n",
        "hparams = Hyperparams(learning_rate=3e-2, anneal_epochs=5, reg=3e-2)\n",
        "print(hparams)\n",
        "\n",
        "epoch_num = 30\n",
        "\n",
        "lenet_model = nn.Sequential(\n",
        "    nn.Conv2d(3, 20, 5, padding=0),\n",
        "    nn.ReLU(inplace=True),\n",
        "    nn.BatchNorm2d(20),\n",
        "    nn.MaxPool2d(2),\n",
        "    nn.Conv2d(20, 60, 5, padding=0),\n",
        "    nn.ReLU(inplace=True),\n",
        "    nn.BatchNorm2d(60),\n",
        "    nn.MaxPool2d(2),    \n",
        "    Flattener(),\n",
        "    nn.Linear(60*5*5, 120),\n",
        "    nn.ReLU(inplace=True),\n",
        "    nn.BatchNorm1d(120),\n",
        "    nn.Linear(120, 84),\n",
        "    nn.ReLU(inplace=True),\n",
        "    nn.BatchNorm1d(84),\n",
        "    nn.Linear(84, 10)\n",
        ")\n",
        "\n",
        "lenet_model.type(torch.cuda.FloatTensor)\n",
        "lenet_model.to(device)\n",
        "\n",
        "loss = nn.CrossEntropyLoss().type(torch.cuda.FloatTensor)\n",
        "optimizer = optim.SGD(lenet_model.parameters(), lr=hparams.learning_rate, weight_decay=hparams.reg)\n",
        "scheduler = optim.lr_scheduler.StepLR(optimizer, step_size=hparams.anneal_epochs, gamma=anneal_coeff, last_epoch=-1, verbose=False)\n",
        "loss_history, train_history, val_history = train_model_scheduled(lenet_model, train_aug_loader, val_loader, loss, optimizer, scheduler, epoch_num)\n",
        "\n",
        "final_val_accuracy = compute_accuracy(lenet_model, val_loader)\n",
        "result = RunResult(lenet_model, train_history, val_history, final_val_accuracy)\n",
        "\n",
        "run_record[hparams] = result"
      ],
      "execution_count": null,
      "outputs": [
        {
          "output_type": "stream",
          "text": [
            "Hyperparams(learning_rate=0.03, anneal_epochs=5, reg=0.03)\n",
            "Average loss: 0.729693, Train accuracy: 0.788093, Val accuracy: 0.881305\n",
            "Average loss: 0.521150, Train accuracy: 0.863461, Val accuracy: 0.876868\n",
            "Average loss: 0.505606, Train accuracy: 0.870184, Val accuracy: 0.872910\n",
            "Average loss: 0.497392, Train accuracy: 0.875286, Val accuracy: 0.848952\n",
            "Average loss: 0.491036, Train accuracy: 0.877129, Val accuracy: 0.864924\n",
            "Average loss: 0.374425, Train accuracy: 0.916749, Val accuracy: 0.923964\n",
            "Average loss: 0.341683, Train accuracy: 0.927533, Val accuracy: 0.923623\n",
            "Average loss: 0.330598, Train accuracy: 0.931270, Val accuracy: 0.919664\n",
            "Average loss: 0.328523, Train accuracy: 0.932447, Val accuracy: 0.920756\n",
            "Average loss: 0.324056, Train accuracy: 0.932533, Val accuracy: 0.918299\n",
            "Average loss: 0.269695, Train accuracy: 0.952821, Val accuracy: 0.934339\n",
            "Average loss: 0.253320, Train accuracy: 0.958946, Val accuracy: 0.936114\n",
            "Average loss: 0.245122, Train accuracy: 0.961898, Val accuracy: 0.936387\n",
            "Average loss: 0.236535, Train accuracy: 0.965345, Val accuracy: 0.934680\n",
            "Average loss: 0.231405, Train accuracy: 0.966556, Val accuracy: 0.935431\n",
            "Average loss: 0.216320, Train accuracy: 0.972665, Val accuracy: 0.936933\n",
            "Average loss: 0.212023, Train accuracy: 0.974491, Val accuracy: 0.937001\n",
            "Average loss: 0.208731, Train accuracy: 0.975139, Val accuracy: 0.938639\n",
            "Average loss: 0.208831, Train accuracy: 0.974968, Val accuracy: 0.937888\n",
            "Average loss: 0.204257, Train accuracy: 0.976862, Val accuracy: 0.937683\n",
            "Average loss: 0.203324, Train accuracy: 0.977630, Val accuracy: 0.938571\n",
            "Average loss: 0.200627, Train accuracy: 0.978330, Val accuracy: 0.937683\n",
            "Average loss: 0.200699, Train accuracy: 0.978500, Val accuracy: 0.938298\n",
            "Average loss: 0.200849, Train accuracy: 0.978279, Val accuracy: 0.937956\n",
            "Average loss: 0.199727, Train accuracy: 0.978586, Val accuracy: 0.939253\n",
            "Average loss: 0.200056, Train accuracy: 0.978347, Val accuracy: 0.938093\n",
            "Average loss: 0.200455, Train accuracy: 0.978227, Val accuracy: 0.938502\n",
            "Average loss: 0.197962, Train accuracy: 0.979627, Val accuracy: 0.937820\n",
            "Average loss: 0.198835, Train accuracy: 0.979405, Val accuracy: 0.937479\n",
            "Average loss: 0.198470, Train accuracy: 0.979627, Val accuracy: 0.937479\n"
          ],
          "name": "stdout"
        }
      ]
    },
    {
      "cell_type": "code",
      "metadata": {
        "colab": {
          "base_uri": "https://localhost:8080/",
          "height": 981
        },
        "id": "k7pJlQNQcXjP",
        "outputId": "45e78e85-8f5c-4bdd-84e6-a2bf066f3dd0"
      },
      "source": [
        "plt.figure(figsize=(16, 8))\n",
        "plt.plot(loss_history)\n",
        "plt.title('Loss')\n",
        "plt.show()\n",
        "\n",
        "plt.figure(figsize=(16, 8))\n",
        "plt.plot(result.train_history)\n",
        "plt.plot(result.val_history)\n",
        "plt.legend(['train', 'val'])\n",
        "plt.title('Accuracy')\n",
        "plt.show()"
      ],
      "execution_count": null,
      "outputs": [
        {
          "output_type": "display_data",
          "data": {
            "image/png": "[encoded data removed]",
            "text/plain": [
              "<Figure size 1152x576 with 1 Axes>"
            ]
          },
          "metadata": {
            "tags": [],
            "needs_background": "light"
          }
        },
        {
          "output_type": "display_data",
          "data": {
            "image/png": "[encoded data removed]",
            "text/plain": [
              "<Figure size 1152x576 with 1 Axes>"
            ]
          },
          "metadata": {
            "tags": [],
            "needs_background": "light"
          }
        }
      ]
    },
    {
      "cell_type": "code",
      "metadata": {
        "id": "tSVhD747icoc"
      },
      "source": [
        "best_model = lenet_model\n",
        "best_result = result\n",
        "best_hparams = hparams"
      ],
      "execution_count": null,
      "outputs": []
    },
    {
      "cell_type": "code",
      "metadata": {
        "colab": {
          "base_uri": "https://localhost:8080/"
        },
        "id": "gJPlzfkkmlzs",
        "outputId": "6354bcb9-ad62-473a-f9e3-d77439cbf767"
      },
      "source": [
        "best_result.final_val_accuracy"
      ],
      "execution_count": null,
      "outputs": [
        {
          "output_type": "execute_result",
          "data": {
            "text/plain": [
              "0.9374786703979251"
            ]
          },
          "metadata": {
            "tags": []
          },
          "execution_count": 116
        }
      ]
    },
    {
      "cell_type": "code",
      "metadata": {
        "colab": {
          "base_uri": "https://localhost:8080/"
        },
        "id": "O3ZKRdDa-6ER",
        "outputId": "1921d7c2-e6a0-4923-8720-13daede57276"
      },
      "source": [
        "best_hparams"
      ],
      "execution_count": null,
      "outputs": [
        {
          "output_type": "execute_result",
          "data": {
            "text/plain": [
              "Hyperparams(learning_rate=0.03, anneal_epochs=5, reg=0.03)"
            ]
          },
          "metadata": {
            "tags": []
          },
          "execution_count": 105
        }
      ]
    },
    {
      "cell_type": "markdown",
      "metadata": {
        "id": "ubeKgBcnhx7N"
      },
      "source": [
        "# Финальный аккорд - проверим лучшую модель на test set\n",
        "\n",
        "В качестве разнообразия - напишите код для прогона модели на test set вы.\n",
        "\n",
        "В результате вы должны натренировать модель, которая покажет более **90%** точности на test set.  \n",
        "Как водится, лучший результат в группе получит дополнительные баллы!"
      ]
    },
    {
      "cell_type": "code",
      "metadata": {
        "id": "EIqM1kdeh-hd",
        "colab": {
          "base_uri": "https://localhost:8080/"
        },
        "outputId": "b1b0f353-daef-4f65-a8dd-2b79ce0b8e4c"
      },
      "source": [
        "# TODO Write the code to compute accuracy on test set\n",
        "final_test_accuracy = compute_accuracy(lenet_model, test_loader)\n",
        "print(\"Final test accuracy - \", final_test_accuracy)"
      ],
      "execution_count": null,
      "outputs": [
        {
          "output_type": "stream",
          "text": [
            "Final test accuracy -  0.936040258143823\n"
          ],
          "name": "stdout"
        }
      ]
    },
    {
      "cell_type": "code",
      "metadata": {
        "id": "H4wgQzPTr9fN"
      },
      "source": [
        ""
      ],
      "execution_count": null,
      "outputs": []
    }
  ]
}